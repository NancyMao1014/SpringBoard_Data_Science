{
 "cells": [
  {
   "cell_type": "markdown",
   "metadata": {},
   "source": [
    "# Data Wrangling\n",
    "\n",
    "In this notebook, I will load the data and perform data wrangling techniques to clean data and deal with missing values "
   ]
  },
  {
   "cell_type": "markdown",
   "metadata": {},
   "source": [
    "**Table of Contents**\n",
    "\n",
    "[Loading Modules and Data](#Loading-Modules-and-Data)  \n",
    "* [Reading File](#Reading-File)\n",
    "* [Set Index Column](#Set-Index-Column)\n",
    "* [Renaming Columns](#Renaming-Columns)\n",
    "* [Visualizing Missing Values](#Visualizing-Missing-Values)\n",
    " \n",
    "\n",
    "[Cleaning Data](#Cleaning-Data)  \n",
    "* [Numerical Variables](#Numerical-Variables)\n",
    "* [Categorical Variables](#Categorical-Variables)\n",
    "* [Outliers](#Outliers)\n",
    "\n",
    "[Summary](#Summary)  \n"
   ]
  },
  {
   "cell_type": "markdown",
   "metadata": {},
   "source": [
    "<a id=’Loading-Modules-and-Data’></a>\n",
    "## Loading Modules and Data"
   ]
  },
  {
   "cell_type": "code",
   "execution_count": 1,
   "metadata": {},
   "outputs": [],
   "source": [
    "import pandas as pd\n",
    "import matplotlib.pyplot as plt\n",
    "import missingno as msno \n",
    "%matplotlib inline"
   ]
  },
  {
   "cell_type": "markdown",
   "metadata": {},
   "source": [
    "<a id=’About-the-Raw-Data’></a>\n",
    "### About the Raw Data\n",
    "\n",
    "The dataset is acquired through Kaggle https://www.kaggle.com/ruiqurm/lianjia. It includes house transactions in Beijing from 2011 to 2017, fetching from Lianjia.com\n",
    "\n",
    "The dataset has the following columms:\n",
    "\n",
    "**url**: the url which fetches the data<br>\n",
    "**id**: the id of transaction<br>\n",
    "**Lng**: and Lat coordinates, using the BD09 protocol.<br>\n",
    "**Cid**: community id<br>\n",
    "**tradeTime**: the time of transaction<br>\n",
    "**DOM**: active days on market.Know more in https://en.wikipedia.org/wiki/Days_on_market<br>\n",
    "**followers**: the number of people follow the transaction.<br>\n",
    "**totalPrice**: the total price in 10K CNY<br>\n",
    "**price**: the average price by square<br>\n",
    "**square**: the square of house<br>\n",
    "**livingRoom**: the number of living room. Translation issues, it should labeled as bedroom<br>\n",
    "**drawingRoom**: the number of drawing room. Translation issues, it should labeled as living room<br>\n",
    "**kitchen**: the number of kitchen<br>\n",
    "**bathroom** the number of bathroom<br>\n",
    "**floor**: the number of floors of the house building and the position of the house (in Chinese characters). <br>\n",
    "**buildingType**: including tower( 1 ) , bungalow( 2 )，combination of plate and tower( 3 ), plate( 4 ).<br>\n",
    "**constructionTime**: the time of construction<br>\n",
    "**renovationCondition**: including other( 1 ), rough( 2 ),basic( 3 ), upgraded( 4 )<br>\n",
    "**buildingStructure**: including unknown( 1 ), mixed( 2 ), brick and wood( 3 ), brick and concrete( 4 ),steel( 5 ) and steel-concrete composite ( 6 ).<br>\n",
    "**ladderRatio**: the proportion between number of residents on the same floor and number of elevator of ladder. It describes how many ladders a resident have on average.<br>\n",
    "**elevator**: have ( 1 ) or not have elevator( 0 )<br>\n",
    "**fiveYearsProperty**: if the owner have the property for less than 5 years<br>\n",
    "**subway**: if it is close (1) to subway lines or not(0) <br>\n",
    "**district**: Beijing Municipality currently comprises 16 administrative county-level subdivisions <br>\n",
    "**CommunityAverage**: average price/square of that community"
   ]
  },
  {
   "cell_type": "markdown",
   "metadata": {},
   "source": [
    "<a id=’Reading-File’></a>\n",
    "#### Reading File"
   ]
  },
  {
   "cell_type": "code",
   "execution_count": 2,
   "metadata": {},
   "outputs": [
    {
     "name": "stderr",
     "output_type": "stream",
     "text": [
      "/Users/NancyMao/anaconda3/lib/python3.6/site-packages/IPython/core/interactiveshell.py:2728: DtypeWarning: Columns (1,11,12,14) have mixed types. Specify dtype option on import or set low_memory=False.\n",
      "  interactivity=interactivity, compiler=compiler, result=result)\n"
     ]
    }
   ],
   "source": [
    "df = pd.read_csv('Beijing House Price.csv', encoding='GBK', parse_dates=True )\n",
    "pd.set_option('display.float_format', lambda x: '%.2f' % x)"
   ]
  },
  {
   "cell_type": "code",
   "execution_count": 3,
   "metadata": {},
   "outputs": [
    {
     "data": {
      "text/html": [
       "<div>\n",
       "<style scoped>\n",
       "    .dataframe tbody tr th:only-of-type {\n",
       "        vertical-align: middle;\n",
       "    }\n",
       "\n",
       "    .dataframe tbody tr th {\n",
       "        vertical-align: top;\n",
       "    }\n",
       "\n",
       "    .dataframe thead th {\n",
       "        text-align: right;\n",
       "    }\n",
       "</style>\n",
       "<table border=\"1\" class=\"dataframe\">\n",
       "  <thead>\n",
       "    <tr style=\"text-align: right;\">\n",
       "      <th></th>\n",
       "      <th>url</th>\n",
       "      <th>id</th>\n",
       "      <th>Lng</th>\n",
       "      <th>Lat</th>\n",
       "      <th>Cid</th>\n",
       "      <th>tradeTime</th>\n",
       "      <th>DOM</th>\n",
       "      <th>followers</th>\n",
       "      <th>totalPrice</th>\n",
       "      <th>price</th>\n",
       "      <th>...</th>\n",
       "      <th>buildingType</th>\n",
       "      <th>constructionTime</th>\n",
       "      <th>renovationCondition</th>\n",
       "      <th>buildingStructure</th>\n",
       "      <th>ladderRatio</th>\n",
       "      <th>elevator</th>\n",
       "      <th>fiveYearsProperty</th>\n",
       "      <th>subway</th>\n",
       "      <th>district</th>\n",
       "      <th>communityAverage</th>\n",
       "    </tr>\n",
       "  </thead>\n",
       "  <tbody>\n",
       "    <tr>\n",
       "      <td>0</td>\n",
       "      <td>https://bj.lianjia.com/chengjiao/101084782030....</td>\n",
       "      <td>101084782030</td>\n",
       "      <td>116.48</td>\n",
       "      <td>40.02</td>\n",
       "      <td>1111027376244</td>\n",
       "      <td>2016-08-09</td>\n",
       "      <td>1464.00</td>\n",
       "      <td>106</td>\n",
       "      <td>415.00</td>\n",
       "      <td>31680</td>\n",
       "      <td>...</td>\n",
       "      <td>1.00</td>\n",
       "      <td>2005</td>\n",
       "      <td>3</td>\n",
       "      <td>6</td>\n",
       "      <td>0.22</td>\n",
       "      <td>1.00</td>\n",
       "      <td>0.00</td>\n",
       "      <td>1.00</td>\n",
       "      <td>7</td>\n",
       "      <td>56021.00</td>\n",
       "    </tr>\n",
       "    <tr>\n",
       "      <td>1</td>\n",
       "      <td>https://bj.lianjia.com/chengjiao/101086012217....</td>\n",
       "      <td>101086012217</td>\n",
       "      <td>116.45</td>\n",
       "      <td>39.88</td>\n",
       "      <td>1111027381879</td>\n",
       "      <td>2016-07-28</td>\n",
       "      <td>903.00</td>\n",
       "      <td>126</td>\n",
       "      <td>575.00</td>\n",
       "      <td>43436</td>\n",
       "      <td>...</td>\n",
       "      <td>1.00</td>\n",
       "      <td>2004</td>\n",
       "      <td>4</td>\n",
       "      <td>6</td>\n",
       "      <td>0.67</td>\n",
       "      <td>1.00</td>\n",
       "      <td>1.00</td>\n",
       "      <td>0.00</td>\n",
       "      <td>7</td>\n",
       "      <td>71539.00</td>\n",
       "    </tr>\n",
       "    <tr>\n",
       "      <td>2</td>\n",
       "      <td>https://bj.lianjia.com/chengjiao/101086041636....</td>\n",
       "      <td>101086041636</td>\n",
       "      <td>116.56</td>\n",
       "      <td>39.88</td>\n",
       "      <td>1111040862969</td>\n",
       "      <td>2016-12-11</td>\n",
       "      <td>1271.00</td>\n",
       "      <td>48</td>\n",
       "      <td>1030.00</td>\n",
       "      <td>52021</td>\n",
       "      <td>...</td>\n",
       "      <td>4.00</td>\n",
       "      <td>2005</td>\n",
       "      <td>3</td>\n",
       "      <td>6</td>\n",
       "      <td>0.50</td>\n",
       "      <td>1.00</td>\n",
       "      <td>0.00</td>\n",
       "      <td>0.00</td>\n",
       "      <td>7</td>\n",
       "      <td>48160.00</td>\n",
       "    </tr>\n",
       "    <tr>\n",
       "      <td>3</td>\n",
       "      <td>https://bj.lianjia.com/chengjiao/101086406841....</td>\n",
       "      <td>101086406841</td>\n",
       "      <td>116.44</td>\n",
       "      <td>40.08</td>\n",
       "      <td>1111043185817</td>\n",
       "      <td>2016-09-30</td>\n",
       "      <td>965.00</td>\n",
       "      <td>138</td>\n",
       "      <td>297.50</td>\n",
       "      <td>22202</td>\n",
       "      <td>...</td>\n",
       "      <td>1.00</td>\n",
       "      <td>2008</td>\n",
       "      <td>1</td>\n",
       "      <td>6</td>\n",
       "      <td>0.27</td>\n",
       "      <td>1.00</td>\n",
       "      <td>0.00</td>\n",
       "      <td>0.00</td>\n",
       "      <td>6</td>\n",
       "      <td>51238.00</td>\n",
       "    </tr>\n",
       "    <tr>\n",
       "      <td>4</td>\n",
       "      <td>https://bj.lianjia.com/chengjiao/101086920653....</td>\n",
       "      <td>101086920653</td>\n",
       "      <td>116.43</td>\n",
       "      <td>39.89</td>\n",
       "      <td>1111027381174</td>\n",
       "      <td>2016-08-28</td>\n",
       "      <td>927.00</td>\n",
       "      <td>286</td>\n",
       "      <td>392.00</td>\n",
       "      <td>48396</td>\n",
       "      <td>...</td>\n",
       "      <td>4.00</td>\n",
       "      <td>1960</td>\n",
       "      <td>2</td>\n",
       "      <td>2</td>\n",
       "      <td>0.33</td>\n",
       "      <td>0.00</td>\n",
       "      <td>1.00</td>\n",
       "      <td>1.00</td>\n",
       "      <td>1</td>\n",
       "      <td>62588.00</td>\n",
       "    </tr>\n",
       "  </tbody>\n",
       "</table>\n",
       "<p>5 rows × 26 columns</p>\n",
       "</div>"
      ],
      "text/plain": [
       "                                                 url            id    Lng  \\\n",
       "0  https://bj.lianjia.com/chengjiao/101084782030....  101084782030 116.48   \n",
       "1  https://bj.lianjia.com/chengjiao/101086012217....  101086012217 116.45   \n",
       "2  https://bj.lianjia.com/chengjiao/101086041636....  101086041636 116.56   \n",
       "3  https://bj.lianjia.com/chengjiao/101086406841....  101086406841 116.44   \n",
       "4  https://bj.lianjia.com/chengjiao/101086920653....  101086920653 116.43   \n",
       "\n",
       "    Lat            Cid   tradeTime     DOM  followers  totalPrice  price  ...  \\\n",
       "0 40.02  1111027376244  2016-08-09 1464.00        106      415.00  31680  ...   \n",
       "1 39.88  1111027381879  2016-07-28  903.00        126      575.00  43436  ...   \n",
       "2 39.88  1111040862969  2016-12-11 1271.00         48     1030.00  52021  ...   \n",
       "3 40.08  1111043185817  2016-09-30  965.00        138      297.50  22202  ...   \n",
       "4 39.89  1111027381174  2016-08-28  927.00        286      392.00  48396  ...   \n",
       "\n",
       "   buildingType constructionTime renovationCondition  buildingStructure  \\\n",
       "0          1.00             2005                   3                  6   \n",
       "1          1.00             2004                   4                  6   \n",
       "2          4.00             2005                   3                  6   \n",
       "3          1.00             2008                   1                  6   \n",
       "4          4.00             1960                   2                  2   \n",
       "\n",
       "  ladderRatio elevator  fiveYearsProperty subway  district  communityAverage  \n",
       "0        0.22     1.00               0.00   1.00         7          56021.00  \n",
       "1        0.67     1.00               1.00   0.00         7          71539.00  \n",
       "2        0.50     1.00               0.00   0.00         7          48160.00  \n",
       "3        0.27     1.00               0.00   0.00         6          51238.00  \n",
       "4        0.33     0.00               1.00   1.00         1          62588.00  \n",
       "\n",
       "[5 rows x 26 columns]"
      ]
     },
     "execution_count": 3,
     "metadata": {},
     "output_type": "execute_result"
    }
   ],
   "source": [
    "df.head()"
   ]
  },
  {
   "cell_type": "code",
   "execution_count": 4,
   "metadata": {},
   "outputs": [
    {
     "name": "stdout",
     "output_type": "stream",
     "text": [
      "<class 'pandas.core.frame.DataFrame'>\n",
      "RangeIndex: 318851 entries, 0 to 318850\n",
      "Data columns (total 26 columns):\n",
      "url                    318851 non-null object\n",
      "id                     318851 non-null object\n",
      "Lng                    318851 non-null float64\n",
      "Lat                    318851 non-null float64\n",
      "Cid                    318851 non-null int64\n",
      "tradeTime              318851 non-null object\n",
      "DOM                    160874 non-null float64\n",
      "followers              318851 non-null int64\n",
      "totalPrice             318851 non-null float64\n",
      "price                  318851 non-null int64\n",
      "square                 318851 non-null float64\n",
      "livingRoom             318851 non-null object\n",
      "drawingRoom            318851 non-null object\n",
      "kitchen                318851 non-null int64\n",
      "bathRoom               318851 non-null object\n",
      "floor                  318851 non-null object\n",
      "buildingType           316830 non-null float64\n",
      "constructionTime       318851 non-null object\n",
      "renovationCondition    318851 non-null int64\n",
      "buildingStructure      318851 non-null int64\n",
      "ladderRatio            318851 non-null float64\n",
      "elevator               318819 non-null float64\n",
      "fiveYearsProperty      318819 non-null float64\n",
      "subway                 318819 non-null float64\n",
      "district               318851 non-null int64\n",
      "communityAverage       318388 non-null float64\n",
      "dtypes: float64(11), int64(7), object(8)\n",
      "memory usage: 63.2+ MB\n"
     ]
    }
   ],
   "source": [
    "df.info()"
   ]
  },
  {
   "cell_type": "code",
   "execution_count": 5,
   "metadata": {},
   "outputs": [],
   "source": [
    "#Convert tradetime from string to datetime data\n",
    "df.tradeTime = pd.to_datetime(df.tradeTime)"
   ]
  },
  {
   "cell_type": "markdown",
   "metadata": {},
   "source": [
    "<a id=’Set-Index-Column’></a>\n",
    "#### Set Index Column"
   ]
  },
  {
   "cell_type": "code",
   "execution_count": 6,
   "metadata": {},
   "outputs": [
    {
     "name": "stdout",
     "output_type": "stream",
     "text": [
      "[101084782030 101086012217 101086041636 ... 'BJYZ92324217' 'BJYZ92333313'\n",
      " 'BJYZ92363553']\n"
     ]
    }
   ],
   "source": [
    "print(df.id.unique())"
   ]
  },
  {
   "cell_type": "markdown",
   "metadata": {},
   "source": [
    "The format of the id column is not consistent"
   ]
  },
  {
   "cell_type": "code",
   "execution_count": 7,
   "metadata": {},
   "outputs": [],
   "source": [
    "#convert all ids as strings and set id as index\n",
    "df.id = df.id.astype(str)\n",
    "df = df.set_index('id')"
   ]
  },
  {
   "cell_type": "markdown",
   "metadata": {},
   "source": [
    "<a id=’Renaming-Coloumns’></a>\n",
    "#### Renaming Columns\n",
    "\n",
    "Some of the columns are not labeled correctly due to translation issues"
   ]
  },
  {
   "cell_type": "code",
   "execution_count": 8,
   "metadata": {},
   "outputs": [
    {
     "data": {
      "text/plain": [
       "array(['url', 'Lng', 'Lat', 'Cid', 'tradeTime', 'DOM', 'followers',\n",
       "       'totalPrice', 'price', 'square', 'livingRoom', 'drawingRoom',\n",
       "       'kitchen', 'bathRoom', 'floor', 'buildingType', 'constructionTime',\n",
       "       'renovationCondition', 'buildingStructure', 'ladderRatio',\n",
       "       'elevator', 'fiveYearsProperty', 'subway', 'district',\n",
       "       'communityAverage'], dtype=object)"
      ]
     },
     "execution_count": 8,
     "metadata": {},
     "output_type": "execute_result"
    }
   ],
   "source": [
    "df.columns.values"
   ]
  },
  {
   "cell_type": "code",
   "execution_count": 9,
   "metadata": {},
   "outputs": [],
   "source": [
    "#livingRoom should actually mean bedRoom\n",
    "df.rename(columns = {'livingRoom':'bedRoom'}, inplace=True)"
   ]
  },
  {
   "cell_type": "code",
   "execution_count": 10,
   "metadata": {},
   "outputs": [],
   "source": [
    "#drawingRoom should actually mean livingRoom\n",
    "df.rename(columns = {'drawingRoom':'livingRoom'}, inplace=True)"
   ]
  },
  {
   "cell_type": "code",
   "execution_count": 11,
   "metadata": {},
   "outputs": [],
   "source": [
    "df.rename(columns = {'square':'squareMeters','price':'pricePerSqMeter'}, inplace=True)"
   ]
  },
  {
   "cell_type": "code",
   "execution_count": 12,
   "metadata": {},
   "outputs": [
    {
     "name": "stdout",
     "output_type": "stream",
     "text": [
      "<class 'pandas.core.frame.DataFrame'>\n",
      "Index: 318851 entries, 101084782030 to BJYZ92363553\n",
      "Data columns (total 25 columns):\n",
      "url                    318851 non-null object\n",
      "Lng                    318851 non-null float64\n",
      "Lat                    318851 non-null float64\n",
      "Cid                    318851 non-null int64\n",
      "tradeTime              318851 non-null datetime64[ns]\n",
      "DOM                    160874 non-null float64\n",
      "followers              318851 non-null int64\n",
      "totalPrice             318851 non-null float64\n",
      "pricePerSqMeter        318851 non-null int64\n",
      "squareMeters           318851 non-null float64\n",
      "bedRoom                318851 non-null object\n",
      "livingRoom             318851 non-null object\n",
      "kitchen                318851 non-null int64\n",
      "bathRoom               318851 non-null object\n",
      "floor                  318851 non-null object\n",
      "buildingType           316830 non-null float64\n",
      "constructionTime       318851 non-null object\n",
      "renovationCondition    318851 non-null int64\n",
      "buildingStructure      318851 non-null int64\n",
      "ladderRatio            318851 non-null float64\n",
      "elevator               318819 non-null float64\n",
      "fiveYearsProperty      318819 non-null float64\n",
      "subway                 318819 non-null float64\n",
      "district               318851 non-null int64\n",
      "communityAverage       318388 non-null float64\n",
      "dtypes: datetime64[ns](1), float64(11), int64(7), object(6)\n",
      "memory usage: 63.2+ MB\n"
     ]
    }
   ],
   "source": [
    "df.info()"
   ]
  },
  {
   "cell_type": "markdown",
   "metadata": {},
   "source": [
    "<a id=’Visualizing-Missing-Values’></a>\n",
    "#### Visualizing Missing Values"
   ]
  },
  {
   "cell_type": "code",
   "execution_count": 13,
   "metadata": {},
   "outputs": [],
   "source": [
    "import numpy as np\n",
    "import missingno as msno "
   ]
  },
  {
   "cell_type": "code",
   "execution_count": 14,
   "metadata": {},
   "outputs": [
    {
     "data": {
      "text/plain": [
       "<matplotlib.axes._subplots.AxesSubplot at 0x7facedb284e0>"
      ]
     },
     "execution_count": 14,
     "metadata": {},
     "output_type": "execute_result"
    },
    {
     "data": {
      "image/png": "[encoded data removed]",
      "text/plain": [
       "<Figure size 1800x720 with 2 Axes>"
      ]
     },
     "metadata": {},
     "output_type": "display_data"
    }
   ],
   "source": [
    "msno.matrix(df) "
   ]
  },
  {
   "cell_type": "markdown",
   "metadata": {},
   "source": [
    " Notice that a large portion of values in DOM column is missing. "
   ]
  },
  {
   "cell_type": "code",
   "execution_count": 15,
   "metadata": {
    "scrolled": true
   },
   "outputs": [
    {
     "data": {
      "text/plain": [
       "<matplotlib.axes._subplots.AxesSubplot at 0x7facec2284e0>"
      ]
     },
     "execution_count": 15,
     "metadata": {},
     "output_type": "execute_result"
    },
    {
     "data": {
      "image/png": "[encoded data removed]",
      "text/plain": [
       "<Figure size 576x288 with 2 Axes>"
      ]
     },
     "metadata": {},
     "output_type": "display_data"
    }
   ],
   "source": [
    "msno.heatmap(df,figsize = (8,4),fontsize = 8)"
   ]
  },
  {
   "cell_type": "markdown",
   "metadata": {},
   "source": [
    "No significant nullity correlation between columns"
   ]
  },
  {
   "cell_type": "markdown",
   "metadata": {},
   "source": [
    "<a id=’Cleaning-Data’></a>\n",
    "### Cleaning Data\n"
   ]
  },
  {
   "cell_type": "markdown",
   "metadata": {},
   "source": [
    "<a id=’Numerical-Variables’></a>\n",
    "#### Numerical Variables\n",
    "\n",
    "- Numbers of bedRoom, livingRoom and bathRoom should be integers, but show as objects"
   ]
  },
  {
   "cell_type": "code",
   "execution_count": 16,
   "metadata": {},
   "outputs": [
    {
     "name": "stdout",
     "output_type": "stream",
     "text": [
      "[2 3 1 4 5 6 9 0 7 8 '1' '4' '3' '2' '5' '7' '9' '6' '0' '#NAME?' '8']\n"
     ]
    }
   ],
   "source": [
    "#check bedRoom values\n",
    "print(df.bedRoom.unique())"
   ]
  },
  {
   "cell_type": "code",
   "execution_count": 17,
   "metadata": {},
   "outputs": [
    {
     "data": {
      "text/plain": [
       "32"
      ]
     },
     "execution_count": 17,
     "metadata": {},
     "output_type": "execute_result"
    }
   ],
   "source": [
    "#Check number line with missing values in bedRoom\n",
    "df[df.bedRoom == '#NAME?'].bedRoom.count()"
   ]
  },
  {
   "cell_type": "code",
   "execution_count": 18,
   "metadata": {},
   "outputs": [],
   "source": [
    "#only 32 lines missing values in bedRoom. I will just remove these lines\n",
    "#drop missing values and store as integer dtype\n",
    "df = df.drop(df[df.bedRoom == '#NAME?'].index)\n",
    "df.bedRoom = df.bedRoom.astype(int)"
   ]
  },
  {
   "cell_type": "code",
   "execution_count": 19,
   "metadata": {},
   "outputs": [
    {
     "name": "stdout",
     "output_type": "stream",
     "text": [
      "[1 2 0 4 3 5 '0' '1' '2' '3' '4' '5']\n"
     ]
    }
   ],
   "source": [
    "#check livingRoom values\n",
    "print(df.livingRoom.unique())"
   ]
  },
  {
   "cell_type": "code",
   "execution_count": 20,
   "metadata": {},
   "outputs": [],
   "source": [
    "#Convert livingRoom number as integer dtype\n",
    "df.livingRoom = df.livingRoom.astype(int)"
   ]
  },
  {
   "cell_type": "code",
   "execution_count": 21,
   "metadata": {},
   "outputs": [
    {
     "name": "stdout",
     "output_type": "stream",
     "text": [
      "[1 2 3 0 4 5 6 7 '1' '2' '0' '3' '4' '5' '7']\n"
     ]
    }
   ],
   "source": [
    "#check bathRoom values\n",
    "print(df.bathRoom.unique())"
   ]
  },
  {
   "cell_type": "code",
   "execution_count": 22,
   "metadata": {},
   "outputs": [],
   "source": [
    "#Convert bathRoom number as integer dtype\n",
    "df.bathRoom = df.bathRoom.astype(int)"
   ]
  },
  {
   "cell_type": "markdown",
   "metadata": {},
   "source": [
    "- Missing Values: communityAverage, DOM, constructionTime"
   ]
  },
  {
   "cell_type": "code",
   "execution_count": 23,
   "metadata": {},
   "outputs": [
    {
     "data": {
      "text/plain": [
       "463"
      ]
     },
     "execution_count": 23,
     "metadata": {},
     "output_type": "execute_result"
    }
   ],
   "source": [
    "#Check number of missing values in CommunityAverage\n",
    "sum(df.communityAverage.isna())"
   ]
  },
  {
   "cell_type": "code",
   "execution_count": 24,
   "metadata": {},
   "outputs": [
    {
     "data": {
      "text/plain": [
       "320"
      ]
     },
     "execution_count": 24,
     "metadata": {},
     "output_type": "execute_result"
    }
   ],
   "source": [
    "#I will use the most recent value of communityAverage of individual Cid of each year to fill the missing values\n",
    "a = df.loc[:,['Cid', 'tradeTime','communityAverage']]\n",
    "a = a.reset_index().set_index('tradeTime').sort_index()\n",
    "a = a.sort_values('Cid')\n",
    "#a.to_csv('original.csv')\n",
    "a['communityAverage'] = a.groupby([pd.Grouper(freq='Y'), 'Cid'])['communityAverage'].ffill()\n",
    "a = a.reset_index().set_index('id')\n",
    "#a.to_csv('filled.csv')\n",
    "df['communityAverage'] = a['communityAverage']\n",
    "sum(df.communityAverage.isna())\n",
    "#320 houses with missing values in communityAverage are in communities where no constructionYear available. "
   ]
  },
  {
   "cell_type": "code",
   "execution_count": 25,
   "metadata": {},
   "outputs": [
    {
     "data": {
      "text/plain": [
       "0"
      ]
     },
     "execution_count": 25,
     "metadata": {},
     "output_type": "execute_result"
    }
   ],
   "source": [
    "#for these houses, I will use the mean of pricePerSqMeter by Cid to fill missing values in communityAverage\n",
    "a = df[df.communityAverage.isnull()].groupby('Cid')['pricePerSqMeter'].mean()\n",
    "df.loc[df.communityAverage.isnull(),'communityAverage'] = df['Cid'].map(a)\n",
    "sum(df.communityAverage.isna())"
   ]
  },
  {
   "cell_type": "code",
   "execution_count": 26,
   "metadata": {},
   "outputs": [
    {
     "data": {
      "text/plain": [
       "count   160849.00\n",
       "mean        28.83\n",
       "std         50.24\n",
       "min          1.00\n",
       "25%          1.00\n",
       "50%          6.00\n",
       "75%         37.00\n",
       "max       1677.00\n",
       "Name: DOM, dtype: float64"
      ]
     },
     "execution_count": 26,
     "metadata": {},
     "output_type": "execute_result"
    }
   ],
   "source": [
    "#check distribution on DOM\n",
    "df.DOM.describe()\n",
    "#DOM is very skewed"
   ]
  },
  {
   "cell_type": "markdown",
   "metadata": {},
   "source": [
    "Notice that the distribution of DOM is skewed. Because the Days on Markets(DOM) can vary significantly for each year and for each community or district, I will use the median of DOM by year by individual community to fill the missing values first"
   ]
  },
  {
   "cell_type": "code",
   "execution_count": 27,
   "metadata": {},
   "outputs": [
    {
     "data": {
      "text/plain": [
       "14537"
      ]
     },
     "execution_count": 27,
     "metadata": {},
     "output_type": "execute_result"
    }
   ],
   "source": [
    "a = df.loc[:,['Cid', 'tradeTime','DOM']]\n",
    "a = a.reset_index().set_index('tradeTime')\n",
    "a['DOM'] = a.groupby([pd.Grouper(freq='Y'), 'Cid']).transform(lambda x: x.fillna(x.median()))\n",
    "a=a.reset_index().set_index('id')\n",
    "df['DOM'] = a['DOM']\n",
    "sum(df.DOM.isna())"
   ]
  },
  {
   "cell_type": "markdown",
   "metadata": {},
   "source": [
    "there are still missing values left. It means there are communities do not have DOM records for a particular year.\n",
    "Next, I will use the median of DOM by year by district to fill the rest missing values"
   ]
  },
  {
   "cell_type": "code",
   "execution_count": 28,
   "metadata": {},
   "outputs": [
    {
     "data": {
      "text/plain": [
       "6"
      ]
     },
     "execution_count": 28,
     "metadata": {},
     "output_type": "execute_result"
    }
   ],
   "source": [
    "a = df.loc[:,['district', 'tradeTime','DOM']]\n",
    "a = a.reset_index().set_index('tradeTime')\n",
    "a['DOM'] = a.groupby([pd.Grouper(freq='Y'), 'district']).transform(lambda x: x.fillna(x.median()))\n",
    "a=a.reset_index().set_index('id')\n",
    "df['DOM'] = a['DOM']\n",
    "sum(df.DOM.isna())"
   ]
  },
  {
   "cell_type": "code",
   "execution_count": 29,
   "metadata": {},
   "outputs": [],
   "source": [
    "#there are still 6 missing values left. It means there are communities do not have DOM records for a particular year.\n",
    "#I will just drop them\n",
    "df = df[df['DOM'].notna()]"
   ]
  },
  {
   "cell_type": "code",
   "execution_count": 30,
   "metadata": {},
   "outputs": [
    {
     "name": "stdout",
     "output_type": "stream",
     "text": [
      "['2005' '2004' '2008' '1960' '1997' '2009' '2006' '1991' '2001' '1990'\n",
      " '2011' '2000' '1998' '2010' '1996' '1993' '2002' '未知' '2012' '1989'\n",
      " '2003' '2007' '1994' '1984' '1992' '2014' '1985' '2013' '1999' '1979'\n",
      " '1981' '1976' '1982' '1975' '1983' '1986' '1995' '1965' '1988' '1987'\n",
      " '2015' '1955' '1980' '1978' '1958' '1970' '1956' '1977' '1964' '1963'\n",
      " '1967' '2016' '1974' '1973' '1959' '1954' '1962' '1966' '1957' '1944'\n",
      " '1972' '1971' '1953' '1968' '1961' '1950' '1952' '1933' '1969' '1906'\n",
      " '1934' '1914']\n"
     ]
    },
    {
     "data": {
      "text/plain": [
       "19282"
      ]
     },
     "execution_count": 30,
     "metadata": {},
     "output_type": "execute_result"
    }
   ],
   "source": [
    "#Check values in constructionTime\n",
    "print(df.constructionTime.unique())\n",
    "len(df[df.constructionTime=='未知'])\n",
    "#'未知' means unknown. 19282 lines with unknown cusntructionTime. "
   ]
  },
  {
   "cell_type": "code",
   "execution_count": 31,
   "metadata": {},
   "outputs": [
    {
     "data": {
      "text/plain": [
       "456"
      ]
     },
     "execution_count": 31,
     "metadata": {},
     "output_type": "execute_result"
    }
   ],
   "source": [
    "# For each community, I will use the most common constructionYear to fill the missing values\n",
    "a = df.loc[df['constructionTime'] != '未知',['Cid','constructionTime']]\n",
    "a = a.groupby(['Cid','constructionTime']).size().sort_values(ascending = False).groupby('Cid').head(1)\n",
    "a = pd.DataFrame(a)\n",
    "a.reset_index(inplace=True)\n",
    "a.set_index('Cid', inplace=True)\n",
    "a.drop(columns=0, inplace=True)\n",
    "df.loc[df['constructionTime'] == '未知','constructionTime'] = df['Cid'].map(a.constructionTime)\n",
    "len(df[df.constructionTime.isnull()])\n",
    "#456 houses with missing values in constructionTime are in communities where no historical constructionYear available. "
   ]
  },
  {
   "cell_type": "code",
   "execution_count": 32,
   "metadata": {},
   "outputs": [],
   "source": [
    "#I will remove these\n",
    "df = df.drop(df[df.constructionTime.isnull()].index)"
   ]
  },
  {
   "cell_type": "code",
   "execution_count": 33,
   "metadata": {},
   "outputs": [],
   "source": [
    "#convert constructionTime in years to int type\n",
    "df.constructionTime = df.constructionTime.astype(int)"
   ]
  },
  {
   "cell_type": "markdown",
   "metadata": {},
   "source": [
    "<a id=’Categorical Variables’></a>\n",
    "#### Categorical Variables\n",
    "\n",
    "- Missing Values: buildingType"
   ]
  },
  {
   "cell_type": "code",
   "execution_count": 34,
   "metadata": {},
   "outputs": [
    {
     "name": "stdout",
     "output_type": "stream",
     "text": [
      "[ 1.  4.  3. nan  2.]\n"
     ]
    },
    {
     "data": {
      "text/plain": [
       "1824"
      ]
     },
     "execution_count": 34,
     "metadata": {},
     "output_type": "execute_result"
    }
   ],
   "source": [
    "# Missing values in buildingType can just be dropped since there are not many. \n",
    "# For practice purpose, I will fill in missing values for communities that just has one buildingType \n",
    "print(df.buildingType.unique())\n",
    "len(df[df.buildingType.isna()])"
   ]
  },
  {
   "cell_type": "code",
   "execution_count": 35,
   "metadata": {},
   "outputs": [
    {
     "data": {
      "text/plain": [
       "642"
      ]
     },
     "execution_count": 35,
     "metadata": {},
     "output_type": "execute_result"
    }
   ],
   "source": [
    "# For each community, I will use the most common buildingType to fill the missing values\n",
    "a = df.loc[df.buildingType.notna(),['Cid','buildingType']]\n",
    "a = a.groupby(['Cid','buildingType']).size().sort_values(ascending = False).groupby('Cid').head(1)\n",
    "a = pd.DataFrame(a)\n",
    "a.reset_index(inplace=True)\n",
    "a.set_index('Cid', inplace=True)\n",
    "a.drop(columns=0, inplace=True)\n",
    "df.loc[df.buildingType.isnull(),'buildingType'] = df['Cid'].map(a.buildingType)\n",
    "len(df[df.buildingType.isnull()])\n",
    "#642 houses with missing values in buildingType are in communities where no info of buildingType available. "
   ]
  },
  {
   "cell_type": "code",
   "execution_count": 36,
   "metadata": {},
   "outputs": [],
   "source": [
    "#I will remove these\n",
    "df = df.drop(df[df.buildingType.isnull()].index)"
   ]
  },
  {
   "cell_type": "markdown",
   "metadata": {},
   "source": [
    "- floor: this column shows the the relative floor position in the building(high, middle, low) and the total floor number of the building. I will split them into separate variables"
   ]
  },
  {
   "cell_type": "code",
   "execution_count": 37,
   "metadata": {},
   "outputs": [
    {
     "name": "stdout",
     "output_type": "stream",
     "text": [
      "id\n",
      "101084782030    高 26\n",
      "101086012217    高 22\n",
      "101086041636     中 4\n",
      "101086406841    底 21\n",
      "101086920653     中 6\n",
      "                ... \n",
      "BJYZ92311192     中 5\n",
      "BJYZ92320171    中 24\n",
      "BJYZ92324217     中 7\n",
      "BJYZ92333313     中 5\n",
      "BJYZ92363553    中 17\n",
      "Name: floor, Length: 317715, dtype: object\n"
     ]
    }
   ],
   "source": [
    "print(df.floor)"
   ]
  },
  {
   "cell_type": "code",
   "execution_count": 38,
   "metadata": {},
   "outputs": [],
   "source": [
    "df[['floorPosition', 'buildingFloors']]= df.floor.str.split(pat= ' ', expand =True)\n",
    "df.drop('floor',axis=1,inplace=True)"
   ]
  },
  {
   "cell_type": "code",
   "execution_count": 39,
   "metadata": {},
   "outputs": [
    {
     "name": "stdout",
     "output_type": "stream",
     "text": [
      "['高' '中' '底' '低' '顶' '未知']\n",
      "['26' '22' '4' '21' '6' '8' '10' '23' '11' '3' '24' '19' '18' '25' '12'\n",
      " '14' '30' '27' '5' '28' '9' '7' '17' '15' '29' '16' '13' '33' '32' '20'\n",
      " '31' '2' '1' '34' '42' '37' '36' '35' '63' '57']\n"
     ]
    }
   ],
   "source": [
    "print(df.floorPosition.unique())\n",
    "print(df.buildingFloors.unique())"
   ]
  },
  {
   "cell_type": "code",
   "execution_count": 40,
   "metadata": {},
   "outputs": [
    {
     "data": {
      "text/plain": [
       "1264"
      ]
     },
     "execution_count": 40,
     "metadata": {},
     "output_type": "execute_result"
    }
   ],
   "source": [
    "len(df[df.floorPosition == '未知'])\n",
    "# '未知' means unknown. 1264 lines with floor position unknow. I will simply remove these lines"
   ]
  },
  {
   "cell_type": "code",
   "execution_count": 41,
   "metadata": {},
   "outputs": [],
   "source": [
    "#drop unknown values and convert buildingFloorst as interger\n",
    "df = df.drop(df[df.floorPosition == '未知'].index)\n",
    "df.buildingFloors = df.buildingFloors.astype(int)"
   ]
  },
  {
   "cell_type": "code",
   "execution_count": 42,
   "metadata": {},
   "outputs": [],
   "source": [
    "#Reassign labels for floorPosition\n",
    "df.floorPosition = df.floorPosition.apply(\n",
    "    lambda x: 'middle' if x == '中' \n",
    "    else ('high' if x == '高' \n",
    "          else ('low' if x =='低' \n",
    "                else ('bottom' if x == '底' \n",
    "                      else ('top' if x == '顶' else x)))))\n",
    "df.floorPosition = df.floorPosition.astype(str)"
   ]
  },
  {
   "cell_type": "markdown",
   "metadata": {},
   "source": [
    "- Label creation for buildingType, renovationCondition, buildingStructure, district"
   ]
  },
  {
   "cell_type": "code",
   "execution_count": 43,
   "metadata": {},
   "outputs": [],
   "source": [
    "df.buildingType = df.buildingType.apply(\n",
    "    lambda x: 'tower' if x == 1 \n",
    "    else ('bungalow' if x == 2 \n",
    "          else ('combination' if x == 3 \n",
    "                else ('plate' if x == 4\n",
    "                      else x))))\n",
    "\n",
    "df.renovationCondition = df.renovationCondition.apply(\n",
    "    lambda x: 'other' if x == 1 \n",
    "    else ('rough' if x == 2 \n",
    "          else ('basic' if x == 3 \n",
    "                else ('upgraded' if x == 4\n",
    "                      else x))))\n",
    "\n",
    "df.buildingStructure = df.buildingStructure.apply(\n",
    "    lambda x: 'unknown' if x == 1 \n",
    "    else ('mixed' if x == 2 \n",
    "          else ('brick and wood' if x == 3 \n",
    "                else ('brick and concrete' if x == 4\n",
    "                      else ('steel' if x == 5\n",
    "                           else ('steel-concrete composite' if x ==6\n",
    "                                else x))))))\n",
    "\n",
    "df.district = df.district.apply(\n",
    "    lambda x: 'DongCheng' if x == 1 \n",
    "    else ('FengTai' if x == 2 \n",
    "          else ('YiZhuang BDA' if x == 3 \n",
    "                else ('DaXing' if x == 4\n",
    "                      else ('FangShan' if x == 5\n",
    "                           else ('ChangPing' if x ==6\n",
    "                                else ('ChaoYang' if x == 7\n",
    "                                     else ('HaiDian' if x == 8\n",
    "                                          else ('ShiJingShan' if x == 9\n",
    "                                               else ('XiCheng' if x == 10\n",
    "                                                    else ('TongZhou' if x == 11\n",
    "                                                         else ('ShunYi' if x ==12\n",
    "                                                              else('MenTouGou' if x ==13\n",
    "                                                                  else x)))))))))))))\n",
    "\n",
    "\n",
    "\n",
    "\n"
   ]
  },
  {
   "cell_type": "code",
   "execution_count": 44,
   "metadata": {},
   "outputs": [
    {
     "name": "stdout",
     "output_type": "stream",
     "text": [
      "<class 'pandas.core.frame.DataFrame'>\n",
      "Index: 316451 entries, 101084782030 to BJYZ92363553\n",
      "Data columns (total 26 columns):\n",
      "url                    316451 non-null object\n",
      "Lng                    316451 non-null float64\n",
      "Lat                    316451 non-null float64\n",
      "Cid                    316451 non-null int64\n",
      "tradeTime              316451 non-null datetime64[ns]\n",
      "DOM                    316451 non-null float64\n",
      "followers              316451 non-null int64\n",
      "totalPrice             316451 non-null float64\n",
      "pricePerSqMeter        316451 non-null int64\n",
      "squareMeters           316451 non-null float64\n",
      "bedRoom                316451 non-null int64\n",
      "livingRoom             316451 non-null int64\n",
      "kitchen                316451 non-null int64\n",
      "bathRoom               316451 non-null int64\n",
      "buildingType           316451 non-null object\n",
      "constructionTime       316451 non-null int64\n",
      "renovationCondition    316451 non-null object\n",
      "buildingStructure      316451 non-null object\n",
      "ladderRatio            316451 non-null float64\n",
      "elevator               316451 non-null float64\n",
      "fiveYearsProperty      316451 non-null float64\n",
      "subway                 316451 non-null float64\n",
      "district               316451 non-null object\n",
      "communityAverage       316451 non-null float64\n",
      "floorPosition          316451 non-null object\n",
      "buildingFloors         316451 non-null int64\n",
      "dtypes: datetime64[ns](1), float64(10), int64(9), object(6)\n",
      "memory usage: 65.2+ MB\n"
     ]
    }
   ],
   "source": [
    "df.info()"
   ]
  },
  {
   "cell_type": "markdown",
   "metadata": {},
   "source": [
    "<a id=’Outliers’></a>\n",
    "#### Outliers\n",
    "- ladderRatio and totalPrice"
   ]
  },
  {
   "cell_type": "code",
   "execution_count": 45,
   "metadata": {},
   "outputs": [
    {
     "data": {
      "text/html": [
       "<div>\n",
       "<style scoped>\n",
       "    .dataframe tbody tr th:only-of-type {\n",
       "        vertical-align: middle;\n",
       "    }\n",
       "\n",
       "    .dataframe tbody tr th {\n",
       "        vertical-align: top;\n",
       "    }\n",
       "\n",
       "    .dataframe thead th {\n",
       "        text-align: right;\n",
       "    }\n",
       "</style>\n",
       "<table border=\"1\" class=\"dataframe\">\n",
       "  <thead>\n",
       "    <tr style=\"text-align: right;\">\n",
       "      <th></th>\n",
       "      <th>Lng</th>\n",
       "      <th>Lat</th>\n",
       "      <th>Cid</th>\n",
       "      <th>DOM</th>\n",
       "      <th>followers</th>\n",
       "      <th>totalPrice</th>\n",
       "      <th>pricePerSqMeter</th>\n",
       "      <th>squareMeters</th>\n",
       "      <th>bedRoom</th>\n",
       "      <th>livingRoom</th>\n",
       "      <th>kitchen</th>\n",
       "      <th>bathRoom</th>\n",
       "      <th>constructionTime</th>\n",
       "      <th>ladderRatio</th>\n",
       "      <th>elevator</th>\n",
       "      <th>fiveYearsProperty</th>\n",
       "      <th>subway</th>\n",
       "      <th>communityAverage</th>\n",
       "      <th>buildingFloors</th>\n",
       "    </tr>\n",
       "  </thead>\n",
       "  <tbody>\n",
       "    <tr>\n",
       "      <td>count</td>\n",
       "      <td>316451.00</td>\n",
       "      <td>316451.00</td>\n",
       "      <td>316451.00</td>\n",
       "      <td>316451.00</td>\n",
       "      <td>316451.00</td>\n",
       "      <td>316451.00</td>\n",
       "      <td>316451.00</td>\n",
       "      <td>316451.00</td>\n",
       "      <td>316451.00</td>\n",
       "      <td>316451.00</td>\n",
       "      <td>316451.00</td>\n",
       "      <td>316451.00</td>\n",
       "      <td>316451.00</td>\n",
       "      <td>316451.00</td>\n",
       "      <td>316451.00</td>\n",
       "      <td>316451.00</td>\n",
       "      <td>316451.00</td>\n",
       "      <td>316451.00</td>\n",
       "      <td>316451.00</td>\n",
       "    </tr>\n",
       "    <tr>\n",
       "      <td>mean</td>\n",
       "      <td>116.42</td>\n",
       "      <td>39.95</td>\n",
       "      <td>1125364692606.44</td>\n",
       "      <td>16.33</td>\n",
       "      <td>16.77</td>\n",
       "      <td>348.26</td>\n",
       "      <td>43536.54</td>\n",
       "      <td>83.00</td>\n",
       "      <td>2.01</td>\n",
       "      <td>1.17</td>\n",
       "      <td>0.99</td>\n",
       "      <td>1.19</td>\n",
       "      <td>1999.38</td>\n",
       "      <td>63.64</td>\n",
       "      <td>0.58</td>\n",
       "      <td>0.65</td>\n",
       "      <td>0.60</td>\n",
       "      <td>63691.20</td>\n",
       "      <td>13.32</td>\n",
       "    </tr>\n",
       "    <tr>\n",
       "      <td>std</td>\n",
       "      <td>0.11</td>\n",
       "      <td>0.09</td>\n",
       "      <td>1291348023088.21</td>\n",
       "      <td>38.40</td>\n",
       "      <td>34.26</td>\n",
       "      <td>225.63</td>\n",
       "      <td>21667.29</td>\n",
       "      <td>36.42</td>\n",
       "      <td>0.77</td>\n",
       "      <td>0.52</td>\n",
       "      <td>0.10</td>\n",
       "      <td>0.43</td>\n",
       "      <td>8.75</td>\n",
       "      <td>25163.39</td>\n",
       "      <td>0.49</td>\n",
       "      <td>0.48</td>\n",
       "      <td>0.49</td>\n",
       "      <td>22297.63</td>\n",
       "      <td>7.82</td>\n",
       "    </tr>\n",
       "    <tr>\n",
       "      <td>min</td>\n",
       "      <td>116.07</td>\n",
       "      <td>39.63</td>\n",
       "      <td>1111027373683.00</td>\n",
       "      <td>1.00</td>\n",
       "      <td>0.00</td>\n",
       "      <td>0.10</td>\n",
       "      <td>1.00</td>\n",
       "      <td>7.37</td>\n",
       "      <td>0.00</td>\n",
       "      <td>0.00</td>\n",
       "      <td>0.00</td>\n",
       "      <td>0.00</td>\n",
       "      <td>1906.00</td>\n",
       "      <td>0.01</td>\n",
       "      <td>0.00</td>\n",
       "      <td>0.00</td>\n",
       "      <td>0.00</td>\n",
       "      <td>10844.00</td>\n",
       "      <td>1.00</td>\n",
       "    </tr>\n",
       "    <tr>\n",
       "      <td>25%</td>\n",
       "      <td>116.34</td>\n",
       "      <td>39.89</td>\n",
       "      <td>1111027376254.00</td>\n",
       "      <td>1.00</td>\n",
       "      <td>0.00</td>\n",
       "      <td>205.00</td>\n",
       "      <td>28075.00</td>\n",
       "      <td>57.90</td>\n",
       "      <td>1.00</td>\n",
       "      <td>1.00</td>\n",
       "      <td>1.00</td>\n",
       "      <td>1.00</td>\n",
       "      <td>1994.00</td>\n",
       "      <td>0.25</td>\n",
       "      <td>0.00</td>\n",
       "      <td>0.00</td>\n",
       "      <td>0.00</td>\n",
       "      <td>46352.00</td>\n",
       "      <td>6.00</td>\n",
       "    </tr>\n",
       "    <tr>\n",
       "      <td>50%</td>\n",
       "      <td>116.42</td>\n",
       "      <td>39.93</td>\n",
       "      <td>1111027378407.00</td>\n",
       "      <td>1.00</td>\n",
       "      <td>5.00</td>\n",
       "      <td>294.00</td>\n",
       "      <td>38762.00</td>\n",
       "      <td>74.17</td>\n",
       "      <td>2.00</td>\n",
       "      <td>1.00</td>\n",
       "      <td>1.00</td>\n",
       "      <td>1.00</td>\n",
       "      <td>2001.00</td>\n",
       "      <td>0.33</td>\n",
       "      <td>1.00</td>\n",
       "      <td>1.00</td>\n",
       "      <td>1.00</td>\n",
       "      <td>59015.00</td>\n",
       "      <td>11.00</td>\n",
       "    </tr>\n",
       "    <tr>\n",
       "      <td>75%</td>\n",
       "      <td>116.48</td>\n",
       "      <td>40.00</td>\n",
       "      <td>1111027380578.00</td>\n",
       "      <td>14.00</td>\n",
       "      <td>18.00</td>\n",
       "      <td>425.00</td>\n",
       "      <td>53833.00</td>\n",
       "      <td>98.56</td>\n",
       "      <td>2.00</td>\n",
       "      <td>1.00</td>\n",
       "      <td>1.00</td>\n",
       "      <td>1.00</td>\n",
       "      <td>2006.00</td>\n",
       "      <td>0.50</td>\n",
       "      <td>1.00</td>\n",
       "      <td>1.00</td>\n",
       "      <td>1.00</td>\n",
       "      <td>75942.00</td>\n",
       "      <td>20.00</td>\n",
       "    </tr>\n",
       "    <tr>\n",
       "      <td>max</td>\n",
       "      <td>116.71</td>\n",
       "      <td>40.25</td>\n",
       "      <td>118486728773575.00</td>\n",
       "      <td>1677.00</td>\n",
       "      <td>1143.00</td>\n",
       "      <td>5700.00</td>\n",
       "      <td>156250.00</td>\n",
       "      <td>640.00</td>\n",
       "      <td>9.00</td>\n",
       "      <td>5.00</td>\n",
       "      <td>4.00</td>\n",
       "      <td>7.00</td>\n",
       "      <td>2016.00</td>\n",
       "      <td>10009400.00</td>\n",
       "      <td>1.00</td>\n",
       "      <td>1.00</td>\n",
       "      <td>1.00</td>\n",
       "      <td>183109.00</td>\n",
       "      <td>63.00</td>\n",
       "    </tr>\n",
       "  </tbody>\n",
       "</table>\n",
       "</div>"
      ],
      "text/plain": [
       "            Lng       Lat                Cid       DOM  followers  totalPrice  \\\n",
       "count 316451.00 316451.00          316451.00 316451.00  316451.00   316451.00   \n",
       "mean     116.42     39.95   1125364692606.44     16.33      16.77      348.26   \n",
       "std        0.11      0.09   1291348023088.21     38.40      34.26      225.63   \n",
       "min      116.07     39.63   1111027373683.00      1.00       0.00        0.10   \n",
       "25%      116.34     39.89   1111027376254.00      1.00       0.00      205.00   \n",
       "50%      116.42     39.93   1111027378407.00      1.00       5.00      294.00   \n",
       "75%      116.48     40.00   1111027380578.00     14.00      18.00      425.00   \n",
       "max      116.71     40.25 118486728773575.00   1677.00    1143.00     5700.00   \n",
       "\n",
       "       pricePerSqMeter  squareMeters   bedRoom  livingRoom   kitchen  \\\n",
       "count        316451.00     316451.00 316451.00   316451.00 316451.00   \n",
       "mean          43536.54         83.00      2.01        1.17      0.99   \n",
       "std           21667.29         36.42      0.77        0.52      0.10   \n",
       "min               1.00          7.37      0.00        0.00      0.00   \n",
       "25%           28075.00         57.90      1.00        1.00      1.00   \n",
       "50%           38762.00         74.17      2.00        1.00      1.00   \n",
       "75%           53833.00         98.56      2.00        1.00      1.00   \n",
       "max          156250.00        640.00      9.00        5.00      4.00   \n",
       "\n",
       "       bathRoom  constructionTime  ladderRatio  elevator  fiveYearsProperty  \\\n",
       "count 316451.00         316451.00    316451.00 316451.00          316451.00   \n",
       "mean       1.19           1999.38        63.64      0.58               0.65   \n",
       "std        0.43              8.75     25163.39      0.49               0.48   \n",
       "min        0.00           1906.00         0.01      0.00               0.00   \n",
       "25%        1.00           1994.00         0.25      0.00               0.00   \n",
       "50%        1.00           2001.00         0.33      1.00               1.00   \n",
       "75%        1.00           2006.00         0.50      1.00               1.00   \n",
       "max        7.00           2016.00  10009400.00      1.00               1.00   \n",
       "\n",
       "         subway  communityAverage  buildingFloors  \n",
       "count 316451.00         316451.00       316451.00  \n",
       "mean       0.60          63691.20           13.32  \n",
       "std        0.49          22297.63            7.82  \n",
       "min        0.00          10844.00            1.00  \n",
       "25%        0.00          46352.00            6.00  \n",
       "50%        1.00          59015.00           11.00  \n",
       "75%        1.00          75942.00           20.00  \n",
       "max        1.00         183109.00           63.00  "
      ]
     },
     "execution_count": 45,
     "metadata": {},
     "output_type": "execute_result"
    }
   ],
   "source": [
    "df.describe()\n",
    "# notice that the ladderRatio has a max value of 10009400 which is extremly high\n",
    "# Also entries that have min totalPrice of 0.1 must be outliers"
   ]
  },
  {
   "cell_type": "markdown",
   "metadata": {},
   "source": [
    "Notice that the ladderRatio has a max value of 10009400 which is extremly high and seems abnormal. Also lines that have min totalPrice of 0.1 seems incorrect as well."
   ]
  },
  {
   "cell_type": "code",
   "execution_count": 46,
   "metadata": {},
   "outputs": [
    {
     "name": "stdout",
     "output_type": "stream",
     "text": [
      "id\n",
      "101101117242   10009400.00\n",
      "BJCY87044782   10009400.00\n",
      "101100278881         10.00\n",
      "BJCY89147006          5.00\n",
      "BJCY89660155          5.00\n",
      "Name: ladderRatio, dtype: float64\n"
     ]
    }
   ],
   "source": [
    "print(df.sort_values(by = 'ladderRatio', ascending=False)['ladderRatio'].head(5))\n",
    "# there are only two entries with ladderRatio of 10009400. I will just remove these two entries\n",
    "\n",
    "df = df.drop(df[df.ladderRatio == df.ladderRatio.max()].index)"
   ]
  },
  {
   "cell_type": "markdown",
   "metadata": {},
   "source": [
    "To see which entries have incorrect totalPrice values, I will firstly calculate the total price based on Price per sq. meters and the number of sq. meters of the house. \n",
    "If the ratio of the totalPrice column and the calculated total Price is not equal to 1, the entry is a possibly outlier with incorrect price info"
   ]
  },
  {
   "cell_type": "code",
   "execution_count": 47,
   "metadata": {},
   "outputs": [
    {
     "data": {
      "text/plain": [
       "227"
      ]
     },
     "execution_count": 47,
     "metadata": {},
     "output_type": "execute_result"
    }
   ],
   "source": [
    "df['totalPrice_calculated'] = df.pricePerSqMeter * df.squareMeters / 10000\n",
    "len(df[round(df.totalPrice / df.totalPrice_calculated)!=1])"
   ]
  },
  {
   "cell_type": "code",
   "execution_count": 48,
   "metadata": {},
   "outputs": [],
   "source": [
    "#there are 227 lines with incorrect price info. Remove these lines\n",
    "df = df.drop(df[round(df.totalPrice / df.totalPrice_calculated)!=1].index)\n",
    "df.drop('totalPrice_calculated', axis = 1, inplace=True)"
   ]
  },
  {
   "cell_type": "code",
   "execution_count": 49,
   "metadata": {},
   "outputs": [
    {
     "name": "stdout",
     "output_type": "stream",
     "text": [
      "<class 'pandas.core.frame.DataFrame'>\n",
      "Index: 316222 entries, 101084782030 to BJYZ92363553\n",
      "Data columns (total 26 columns):\n",
      "url                    316222 non-null object\n",
      "Lng                    316222 non-null float64\n",
      "Lat                    316222 non-null float64\n",
      "Cid                    316222 non-null int64\n",
      "tradeTime              316222 non-null datetime64[ns]\n",
      "DOM                    316222 non-null float64\n",
      "followers              316222 non-null int64\n",
      "totalPrice             316222 non-null float64\n",
      "pricePerSqMeter        316222 non-null int64\n",
      "squareMeters           316222 non-null float64\n",
      "bedRoom                316222 non-null int64\n",
      "livingRoom             316222 non-null int64\n",
      "kitchen                316222 non-null int64\n",
      "bathRoom               316222 non-null int64\n",
      "buildingType           316222 non-null object\n",
      "constructionTime       316222 non-null int64\n",
      "renovationCondition    316222 non-null object\n",
      "buildingStructure      316222 non-null object\n",
      "ladderRatio            316222 non-null float64\n",
      "elevator               316222 non-null float64\n",
      "fiveYearsProperty      316222 non-null float64\n",
      "subway                 316222 non-null float64\n",
      "district               316222 non-null object\n",
      "communityAverage       316222 non-null float64\n",
      "floorPosition          316222 non-null object\n",
      "buildingFloors         316222 non-null int64\n",
      "dtypes: datetime64[ns](1), float64(10), int64(9), object(6)\n",
      "memory usage: 65.1+ MB\n"
     ]
    }
   ],
   "source": [
    "df.info()"
   ]
  },
  {
   "cell_type": "code",
   "execution_count": 50,
   "metadata": {},
   "outputs": [
    {
     "data": {
      "text/html": [
       "<div>\n",
       "<style scoped>\n",
       "    .dataframe tbody tr th:only-of-type {\n",
       "        vertical-align: middle;\n",
       "    }\n",
       "\n",
       "    .dataframe tbody tr th {\n",
       "        vertical-align: top;\n",
       "    }\n",
       "\n",
       "    .dataframe thead th {\n",
       "        text-align: right;\n",
       "    }\n",
       "</style>\n",
       "<table border=\"1\" class=\"dataframe\">\n",
       "  <thead>\n",
       "    <tr style=\"text-align: right;\">\n",
       "      <th></th>\n",
       "      <th>Lng</th>\n",
       "      <th>Lat</th>\n",
       "      <th>Cid</th>\n",
       "      <th>DOM</th>\n",
       "      <th>followers</th>\n",
       "      <th>totalPrice</th>\n",
       "      <th>pricePerSqMeter</th>\n",
       "      <th>squareMeters</th>\n",
       "      <th>bedRoom</th>\n",
       "      <th>livingRoom</th>\n",
       "      <th>kitchen</th>\n",
       "      <th>bathRoom</th>\n",
       "      <th>constructionTime</th>\n",
       "      <th>ladderRatio</th>\n",
       "      <th>elevator</th>\n",
       "      <th>fiveYearsProperty</th>\n",
       "      <th>subway</th>\n",
       "      <th>communityAverage</th>\n",
       "      <th>buildingFloors</th>\n",
       "    </tr>\n",
       "  </thead>\n",
       "  <tbody>\n",
       "    <tr>\n",
       "      <td>count</td>\n",
       "      <td>316222.00</td>\n",
       "      <td>316222.00</td>\n",
       "      <td>316222.00</td>\n",
       "      <td>316222.00</td>\n",
       "      <td>316222.00</td>\n",
       "      <td>316222.00</td>\n",
       "      <td>316222.00</td>\n",
       "      <td>316222.00</td>\n",
       "      <td>316222.00</td>\n",
       "      <td>316222.00</td>\n",
       "      <td>316222.00</td>\n",
       "      <td>316222.00</td>\n",
       "      <td>316222.00</td>\n",
       "      <td>316222.00</td>\n",
       "      <td>316222.00</td>\n",
       "      <td>316222.00</td>\n",
       "      <td>316222.00</td>\n",
       "      <td>316222.00</td>\n",
       "      <td>316222.00</td>\n",
       "    </tr>\n",
       "    <tr>\n",
       "      <td>mean</td>\n",
       "      <td>116.42</td>\n",
       "      <td>39.95</td>\n",
       "      <td>1125375075270.77</td>\n",
       "      <td>16.34</td>\n",
       "      <td>16.78</td>\n",
       "      <td>348.51</td>\n",
       "      <td>43567.73</td>\n",
       "      <td>83.00</td>\n",
       "      <td>2.01</td>\n",
       "      <td>1.17</td>\n",
       "      <td>0.99</td>\n",
       "      <td>1.19</td>\n",
       "      <td>1999.38</td>\n",
       "      <td>0.38</td>\n",
       "      <td>0.58</td>\n",
       "      <td>0.65</td>\n",
       "      <td>0.60</td>\n",
       "      <td>63688.96</td>\n",
       "      <td>13.32</td>\n",
       "    </tr>\n",
       "    <tr>\n",
       "      <td>std</td>\n",
       "      <td>0.11</td>\n",
       "      <td>0.09</td>\n",
       "      <td>1291815463127.41</td>\n",
       "      <td>38.41</td>\n",
       "      <td>34.27</td>\n",
       "      <td>225.52</td>\n",
       "      <td>21643.66</td>\n",
       "      <td>36.43</td>\n",
       "      <td>0.77</td>\n",
       "      <td>0.52</td>\n",
       "      <td>0.10</td>\n",
       "      <td>0.43</td>\n",
       "      <td>8.76</td>\n",
       "      <td>0.18</td>\n",
       "      <td>0.49</td>\n",
       "      <td>0.48</td>\n",
       "      <td>0.49</td>\n",
       "      <td>22296.67</td>\n",
       "      <td>7.82</td>\n",
       "    </tr>\n",
       "    <tr>\n",
       "      <td>min</td>\n",
       "      <td>116.07</td>\n",
       "      <td>39.63</td>\n",
       "      <td>1111027373683.00</td>\n",
       "      <td>1.00</td>\n",
       "      <td>0.00</td>\n",
       "      <td>0.20</td>\n",
       "      <td>44.00</td>\n",
       "      <td>7.37</td>\n",
       "      <td>0.00</td>\n",
       "      <td>0.00</td>\n",
       "      <td>0.00</td>\n",
       "      <td>0.00</td>\n",
       "      <td>1906.00</td>\n",
       "      <td>0.01</td>\n",
       "      <td>0.00</td>\n",
       "      <td>0.00</td>\n",
       "      <td>0.00</td>\n",
       "      <td>10844.00</td>\n",
       "      <td>1.00</td>\n",
       "    </tr>\n",
       "    <tr>\n",
       "      <td>25%</td>\n",
       "      <td>116.34</td>\n",
       "      <td>39.89</td>\n",
       "      <td>1111027376254.00</td>\n",
       "      <td>1.00</td>\n",
       "      <td>0.00</td>\n",
       "      <td>205.00</td>\n",
       "      <td>28096.00</td>\n",
       "      <td>57.90</td>\n",
       "      <td>1.00</td>\n",
       "      <td>1.00</td>\n",
       "      <td>1.00</td>\n",
       "      <td>1.00</td>\n",
       "      <td>1994.00</td>\n",
       "      <td>0.25</td>\n",
       "      <td>0.00</td>\n",
       "      <td>0.00</td>\n",
       "      <td>0.00</td>\n",
       "      <td>46352.00</td>\n",
       "      <td>6.00</td>\n",
       "    </tr>\n",
       "    <tr>\n",
       "      <td>50%</td>\n",
       "      <td>116.42</td>\n",
       "      <td>39.93</td>\n",
       "      <td>1111027378407.00</td>\n",
       "      <td>1.00</td>\n",
       "      <td>5.00</td>\n",
       "      <td>294.00</td>\n",
       "      <td>38776.00</td>\n",
       "      <td>74.17</td>\n",
       "      <td>2.00</td>\n",
       "      <td>1.00</td>\n",
       "      <td>1.00</td>\n",
       "      <td>1.00</td>\n",
       "      <td>2001.00</td>\n",
       "      <td>0.33</td>\n",
       "      <td>1.00</td>\n",
       "      <td>1.00</td>\n",
       "      <td>1.00</td>\n",
       "      <td>59015.00</td>\n",
       "      <td>11.00</td>\n",
       "    </tr>\n",
       "    <tr>\n",
       "      <td>75%</td>\n",
       "      <td>116.48</td>\n",
       "      <td>40.00</td>\n",
       "      <td>1111027380578.00</td>\n",
       "      <td>14.00</td>\n",
       "      <td>18.00</td>\n",
       "      <td>425.00</td>\n",
       "      <td>53847.00</td>\n",
       "      <td>98.56</td>\n",
       "      <td>2.00</td>\n",
       "      <td>1.00</td>\n",
       "      <td>1.00</td>\n",
       "      <td>1.00</td>\n",
       "      <td>2006.00</td>\n",
       "      <td>0.50</td>\n",
       "      <td>1.00</td>\n",
       "      <td>1.00</td>\n",
       "      <td>1.00</td>\n",
       "      <td>75942.00</td>\n",
       "      <td>20.00</td>\n",
       "    </tr>\n",
       "    <tr>\n",
       "      <td>max</td>\n",
       "      <td>116.71</td>\n",
       "      <td>40.25</td>\n",
       "      <td>118486728773575.00</td>\n",
       "      <td>1677.00</td>\n",
       "      <td>1143.00</td>\n",
       "      <td>5700.00</td>\n",
       "      <td>156250.00</td>\n",
       "      <td>640.00</td>\n",
       "      <td>9.00</td>\n",
       "      <td>5.00</td>\n",
       "      <td>4.00</td>\n",
       "      <td>7.00</td>\n",
       "      <td>2016.00</td>\n",
       "      <td>10.00</td>\n",
       "      <td>1.00</td>\n",
       "      <td>1.00</td>\n",
       "      <td>1.00</td>\n",
       "      <td>183109.00</td>\n",
       "      <td>63.00</td>\n",
       "    </tr>\n",
       "  </tbody>\n",
       "</table>\n",
       "</div>"
      ],
      "text/plain": [
       "            Lng       Lat                Cid       DOM  followers  totalPrice  \\\n",
       "count 316222.00 316222.00          316222.00 316222.00  316222.00   316222.00   \n",
       "mean     116.42     39.95   1125375075270.77     16.34      16.78      348.51   \n",
       "std        0.11      0.09   1291815463127.41     38.41      34.27      225.52   \n",
       "min      116.07     39.63   1111027373683.00      1.00       0.00        0.20   \n",
       "25%      116.34     39.89   1111027376254.00      1.00       0.00      205.00   \n",
       "50%      116.42     39.93   1111027378407.00      1.00       5.00      294.00   \n",
       "75%      116.48     40.00   1111027380578.00     14.00      18.00      425.00   \n",
       "max      116.71     40.25 118486728773575.00   1677.00    1143.00     5700.00   \n",
       "\n",
       "       pricePerSqMeter  squareMeters   bedRoom  livingRoom   kitchen  \\\n",
       "count        316222.00     316222.00 316222.00   316222.00 316222.00   \n",
       "mean          43567.73         83.00      2.01        1.17      0.99   \n",
       "std           21643.66         36.43      0.77        0.52      0.10   \n",
       "min              44.00          7.37      0.00        0.00      0.00   \n",
       "25%           28096.00         57.90      1.00        1.00      1.00   \n",
       "50%           38776.00         74.17      2.00        1.00      1.00   \n",
       "75%           53847.00         98.56      2.00        1.00      1.00   \n",
       "max          156250.00        640.00      9.00        5.00      4.00   \n",
       "\n",
       "       bathRoom  constructionTime  ladderRatio  elevator  fiveYearsProperty  \\\n",
       "count 316222.00         316222.00    316222.00 316222.00          316222.00   \n",
       "mean       1.19           1999.38         0.38      0.58               0.65   \n",
       "std        0.43              8.76         0.18      0.49               0.48   \n",
       "min        0.00           1906.00         0.01      0.00               0.00   \n",
       "25%        1.00           1994.00         0.25      0.00               0.00   \n",
       "50%        1.00           2001.00         0.33      1.00               1.00   \n",
       "75%        1.00           2006.00         0.50      1.00               1.00   \n",
       "max        7.00           2016.00        10.00      1.00               1.00   \n",
       "\n",
       "         subway  communityAverage  buildingFloors  \n",
       "count 316222.00         316222.00       316222.00  \n",
       "mean       0.60          63688.96           13.32  \n",
       "std        0.49          22296.67            7.82  \n",
       "min        0.00          10844.00            1.00  \n",
       "25%        0.00          46352.00            6.00  \n",
       "50%        1.00          59015.00           11.00  \n",
       "75%        1.00          75942.00           20.00  \n",
       "max        1.00         183109.00           63.00  "
      ]
     },
     "execution_count": 50,
     "metadata": {},
     "output_type": "execute_result"
    }
   ],
   "source": [
    "df.describe()"
   ]
  },
  {
   "cell_type": "markdown",
   "metadata": {},
   "source": [
    "<a id=’Summary’></a>\n",
    "### Summary\n",
    "After cleaning the data and removing the outliers, now we have 316222 lines that are ready to use. \n",
    "2622 (0.8%) lines are dropped during the data cleaning process. \n",
    "\n",
    "\n"
   ]
  },
  {
   "cell_type": "code",
   "execution_count": 51,
   "metadata": {},
   "outputs": [],
   "source": [
    "df.to_csv('BeijingHousePricing_Cleaned.csv')"
   ]
  }
 ],
 "metadata": {
  "kernelspec": {
   "display_name": "Python 3",
   "language": "python",
   "name": "python3"
  },
  "language_info": {
   "codemirror_mode": {
    "name": "ipython",
    "version": 3
   },
   "file_extension": ".py",
   "mimetype": "text/x-python",
   "name": "python",
   "nbconvert_exporter": "python",
   "pygments_lexer": "ipython3",
   "version": "3.6.4"
  }
 },
 "nbformat": 4,
 "nbformat_minor": 2
}
