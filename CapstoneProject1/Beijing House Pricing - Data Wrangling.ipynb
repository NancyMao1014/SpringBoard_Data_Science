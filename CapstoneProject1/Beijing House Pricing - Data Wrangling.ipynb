{
 "cells": [
  {
   "cell_type": "markdown",
   "metadata": {},
   "source": [
    "# Data Wrangling\n",
    "\n",
    "In this notebook, I will load the data and perform data wrangling techniques to clean data and deal with missing values "
   ]
  },
  {
   "cell_type": "markdown",
   "metadata": {},
   "source": [
    "**Table of Contents**\n",
    "\n",
    "[Loading modules and Data](#Reading-File)  \n",
    "* [Reading File](#Reading-File)\n",
    "* [Set Index Column](#Set-Index-Column)\n",
    "* [Renaming Columns](#Renaming-Columns)\n",
    "* [Visualizing Missing Values](#Visualizing-Missing-Values)\n",
    " \n",
    "\n",
    "[Cleaning Data](#Cleaning-Data)  \n",
    "* [Numerical Variables](#Numerical-Variables)\n",
    "* [Categorical Variables](#Categorical-Variables)\n",
    "* [Outliers](#Outliers)\n",
    "\n",
    "[Summary](#Summary)  \n"
   ]
  },
  {
   "cell_type": "markdown",
   "metadata": {},
   "source": [
    "<a id=’Loading-Modules-and-data’></a>\n",
    "## Loading Modules and Data"
   ]
  },
  {
   "cell_type": "code",
   "execution_count": 1,
   "metadata": {},
   "outputs": [],
   "source": [
    "import pandas as pd\n",
    "import matplotlib.pyplot as plt\n",
    "import missingno as msno \n",
    "%matplotlib inline"
   ]
  },
  {
   "cell_type": "markdown",
   "metadata": {},
   "source": [
    "<a id=’About-the-Raw-Data’></a>\n",
    "### About the Raw Data\n",
    "\n",
    "The dataset is acquired through Kaggle https://www.kaggle.com/ruiqurm/lianjia. It includes house transactions in Beijing from 2011 to 2017, fetching from Lianjia.com\n",
    "\n",
    "The dataset has the following columms:\n",
    "\n",
    "**url**: the url which fetches the data<br>\n",
    "**id**: the id of transaction<br>\n",
    "**Lng**: and Lat coordinates, using the BD09 protocol.<br>\n",
    "**Cid**: community id<br>\n",
    "**tradeTime**: the time of transaction<br>\n",
    "**DOM**: active days on market.Know more in https://en.wikipedia.org/wiki/Days_on_market<br>\n",
    "**followers**: the number of people follow the transaction.<br>\n",
    "**totalPrice**: the total price in 10K CNY<br>\n",
    "**price**: the average price by square<br>\n",
    "**square**: the square of house<br>\n",
    "**livingRoom**: the number of living room. Translation issues, it should labeled as bedroom<br>\n",
    "**drawingRoom**: the number of drawing room. Translation issues, it should labeled as living room<br>\n",
    "**kitchen**: the number of kitchen<br>\n",
    "**bathroom** the number of bathroom<br>\n",
    "**floor**: the height of the house. I will turn the Chinese characters to English in the next version.<br>\n",
    "**buildingType**: including tower( 1 ) , bungalow( 2 )，combination of plate and tower( 3 ), plate( 4 ).<br>\n",
    "**constructionTime**: the time of construction<br>\n",
    "**renovationCondition**: including other( 1 ), rough( 2 ),Simplicity( 3 ), hardcover( 4 )<br>\n",
    "**buildingStructure**: including unknown( 1 ), mixed( 2 ), brick and wood( 3 ), brick and concrete( 4 ),steel( 5 ) and steel-concrete composite ( 6 ).<br>\n",
    "**ladderRatio**: the proportion between number of residents on the same floor and number of elevator of ladder. It describes how many ladders a resident have on average.<br>\n",
    "**elevator**: have ( 1 ) or not have elevator( 0 )<br>\n",
    "**fiveYearsProperty**: if the owner have the property for less than 5 years<br>\n",
    "**subway**: if it is close (1) to subway lines or not(0) <br>\n",
    "**district**: Beijing Municipality currently comprises 16 administrative county-level subdivisions <br>\n",
    "**CommunityAverage**: average price/square of that community"
   ]
  },
  {
   "cell_type": "markdown",
   "metadata": {},
   "source": [
    "<a id=’Reading-File’></a>\n",
    "#### Reading File"
   ]
  },
  {
   "cell_type": "code",
   "execution_count": 2,
   "metadata": {},
   "outputs": [
    {
     "name": "stderr",
     "output_type": "stream",
     "text": [
      "/Users/NancyMao/anaconda3/lib/python3.6/site-packages/IPython/core/interactiveshell.py:2728: DtypeWarning: Columns (1,11,12,14) have mixed types. Specify dtype option on import or set low_memory=False.\n",
      "  interactivity=interactivity, compiler=compiler, result=result)\n"
     ]
    }
   ],
   "source": [
    "df = pd.read_csv('Beijing House Price.csv', encoding='GBK', parse_dates=True )\n",
    "pd.set_option('display.float_format', lambda x: '%.3f' % x)"
   ]
  },
  {
   "cell_type": "code",
   "execution_count": 3,
   "metadata": {},
   "outputs": [
    {
     "data": {
      "text/html": [
       "<div>\n",
       "<style scoped>\n",
       "    .dataframe tbody tr th:only-of-type {\n",
       "        vertical-align: middle;\n",
       "    }\n",
       "\n",
       "    .dataframe tbody tr th {\n",
       "        vertical-align: top;\n",
       "    }\n",
       "\n",
       "    .dataframe thead th {\n",
       "        text-align: right;\n",
       "    }\n",
       "</style>\n",
       "<table border=\"1\" class=\"dataframe\">\n",
       "  <thead>\n",
       "    <tr style=\"text-align: right;\">\n",
       "      <th></th>\n",
       "      <th>url</th>\n",
       "      <th>id</th>\n",
       "      <th>Lng</th>\n",
       "      <th>Lat</th>\n",
       "      <th>Cid</th>\n",
       "      <th>tradeTime</th>\n",
       "      <th>DOM</th>\n",
       "      <th>followers</th>\n",
       "      <th>totalPrice</th>\n",
       "      <th>price</th>\n",
       "      <th>...</th>\n",
       "      <th>buildingType</th>\n",
       "      <th>constructionTime</th>\n",
       "      <th>renovationCondition</th>\n",
       "      <th>buildingStructure</th>\n",
       "      <th>ladderRatio</th>\n",
       "      <th>elevator</th>\n",
       "      <th>fiveYearsProperty</th>\n",
       "      <th>subway</th>\n",
       "      <th>district</th>\n",
       "      <th>communityAverage</th>\n",
       "    </tr>\n",
       "  </thead>\n",
       "  <tbody>\n",
       "    <tr>\n",
       "      <td>0</td>\n",
       "      <td>https://bj.lianjia.com/chengjiao/101084782030....</td>\n",
       "      <td>101084782030</td>\n",
       "      <td>116.475</td>\n",
       "      <td>40.020</td>\n",
       "      <td>1111027376244</td>\n",
       "      <td>2016-08-09</td>\n",
       "      <td>1464.000</td>\n",
       "      <td>106</td>\n",
       "      <td>415.000</td>\n",
       "      <td>31680</td>\n",
       "      <td>...</td>\n",
       "      <td>1.000</td>\n",
       "      <td>2005</td>\n",
       "      <td>3</td>\n",
       "      <td>6</td>\n",
       "      <td>0.217</td>\n",
       "      <td>1.000</td>\n",
       "      <td>0.000</td>\n",
       "      <td>1.000</td>\n",
       "      <td>7</td>\n",
       "      <td>56021.000</td>\n",
       "    </tr>\n",
       "    <tr>\n",
       "      <td>1</td>\n",
       "      <td>https://bj.lianjia.com/chengjiao/101086012217....</td>\n",
       "      <td>101086012217</td>\n",
       "      <td>116.454</td>\n",
       "      <td>39.882</td>\n",
       "      <td>1111027381879</td>\n",
       "      <td>2016-07-28</td>\n",
       "      <td>903.000</td>\n",
       "      <td>126</td>\n",
       "      <td>575.000</td>\n",
       "      <td>43436</td>\n",
       "      <td>...</td>\n",
       "      <td>1.000</td>\n",
       "      <td>2004</td>\n",
       "      <td>4</td>\n",
       "      <td>6</td>\n",
       "      <td>0.667</td>\n",
       "      <td>1.000</td>\n",
       "      <td>1.000</td>\n",
       "      <td>0.000</td>\n",
       "      <td>7</td>\n",
       "      <td>71539.000</td>\n",
       "    </tr>\n",
       "    <tr>\n",
       "      <td>2</td>\n",
       "      <td>https://bj.lianjia.com/chengjiao/101086041636....</td>\n",
       "      <td>101086041636</td>\n",
       "      <td>116.562</td>\n",
       "      <td>39.877</td>\n",
       "      <td>1111040862969</td>\n",
       "      <td>2016-12-11</td>\n",
       "      <td>1271.000</td>\n",
       "      <td>48</td>\n",
       "      <td>1030.000</td>\n",
       "      <td>52021</td>\n",
       "      <td>...</td>\n",
       "      <td>4.000</td>\n",
       "      <td>2005</td>\n",
       "      <td>3</td>\n",
       "      <td>6</td>\n",
       "      <td>0.500</td>\n",
       "      <td>1.000</td>\n",
       "      <td>0.000</td>\n",
       "      <td>0.000</td>\n",
       "      <td>7</td>\n",
       "      <td>48160.000</td>\n",
       "    </tr>\n",
       "    <tr>\n",
       "      <td>3</td>\n",
       "      <td>https://bj.lianjia.com/chengjiao/101086406841....</td>\n",
       "      <td>101086406841</td>\n",
       "      <td>116.438</td>\n",
       "      <td>40.076</td>\n",
       "      <td>1111043185817</td>\n",
       "      <td>2016-09-30</td>\n",
       "      <td>965.000</td>\n",
       "      <td>138</td>\n",
       "      <td>297.500</td>\n",
       "      <td>22202</td>\n",
       "      <td>...</td>\n",
       "      <td>1.000</td>\n",
       "      <td>2008</td>\n",
       "      <td>1</td>\n",
       "      <td>6</td>\n",
       "      <td>0.273</td>\n",
       "      <td>1.000</td>\n",
       "      <td>0.000</td>\n",
       "      <td>0.000</td>\n",
       "      <td>6</td>\n",
       "      <td>51238.000</td>\n",
       "    </tr>\n",
       "    <tr>\n",
       "      <td>4</td>\n",
       "      <td>https://bj.lianjia.com/chengjiao/101086920653....</td>\n",
       "      <td>101086920653</td>\n",
       "      <td>116.428</td>\n",
       "      <td>39.886</td>\n",
       "      <td>1111027381174</td>\n",
       "      <td>2016-08-28</td>\n",
       "      <td>927.000</td>\n",
       "      <td>286</td>\n",
       "      <td>392.000</td>\n",
       "      <td>48396</td>\n",
       "      <td>...</td>\n",
       "      <td>4.000</td>\n",
       "      <td>1960</td>\n",
       "      <td>2</td>\n",
       "      <td>2</td>\n",
       "      <td>0.333</td>\n",
       "      <td>0.000</td>\n",
       "      <td>1.000</td>\n",
       "      <td>1.000</td>\n",
       "      <td>1</td>\n",
       "      <td>62588.000</td>\n",
       "    </tr>\n",
       "  </tbody>\n",
       "</table>\n",
       "<p>5 rows × 26 columns</p>\n",
       "</div>"
      ],
      "text/plain": [
       "                                                 url            id     Lng  \\\n",
       "0  https://bj.lianjia.com/chengjiao/101084782030....  101084782030 116.475   \n",
       "1  https://bj.lianjia.com/chengjiao/101086012217....  101086012217 116.454   \n",
       "2  https://bj.lianjia.com/chengjiao/101086041636....  101086041636 116.562   \n",
       "3  https://bj.lianjia.com/chengjiao/101086406841....  101086406841 116.438   \n",
       "4  https://bj.lianjia.com/chengjiao/101086920653....  101086920653 116.428   \n",
       "\n",
       "     Lat            Cid   tradeTime      DOM  followers  totalPrice  price  \\\n",
       "0 40.020  1111027376244  2016-08-09 1464.000        106     415.000  31680   \n",
       "1 39.882  1111027381879  2016-07-28  903.000        126     575.000  43436   \n",
       "2 39.877  1111040862969  2016-12-11 1271.000         48    1030.000  52021   \n",
       "3 40.076  1111043185817  2016-09-30  965.000        138     297.500  22202   \n",
       "4 39.886  1111027381174  2016-08-28  927.000        286     392.000  48396   \n",
       "\n",
       "   ...  buildingType constructionTime renovationCondition  buildingStructure  \\\n",
       "0  ...         1.000             2005                   3                  6   \n",
       "1  ...         1.000             2004                   4                  6   \n",
       "2  ...         4.000             2005                   3                  6   \n",
       "3  ...         1.000             2008                   1                  6   \n",
       "4  ...         4.000             1960                   2                  2   \n",
       "\n",
       "  ladderRatio elevator  fiveYearsProperty subway  district  communityAverage  \n",
       "0       0.217    1.000              0.000  1.000         7         56021.000  \n",
       "1       0.667    1.000              1.000  0.000         7         71539.000  \n",
       "2       0.500    1.000              0.000  0.000         7         48160.000  \n",
       "3       0.273    1.000              0.000  0.000         6         51238.000  \n",
       "4       0.333    0.000              1.000  1.000         1         62588.000  \n",
       "\n",
       "[5 rows x 26 columns]"
      ]
     },
     "execution_count": 3,
     "metadata": {},
     "output_type": "execute_result"
    }
   ],
   "source": [
    "df.head()"
   ]
  },
  {
   "cell_type": "code",
   "execution_count": 4,
   "metadata": {},
   "outputs": [
    {
     "name": "stdout",
     "output_type": "stream",
     "text": [
      "<class 'pandas.core.frame.DataFrame'>\n",
      "RangeIndex: 318851 entries, 0 to 318850\n",
      "Data columns (total 26 columns):\n",
      "url                    318851 non-null object\n",
      "id                     318851 non-null object\n",
      "Lng                    318851 non-null float64\n",
      "Lat                    318851 non-null float64\n",
      "Cid                    318851 non-null int64\n",
      "tradeTime              318851 non-null object\n",
      "DOM                    160874 non-null float64\n",
      "followers              318851 non-null int64\n",
      "totalPrice             318851 non-null float64\n",
      "price                  318851 non-null int64\n",
      "square                 318851 non-null float64\n",
      "livingRoom             318851 non-null object\n",
      "drawingRoom            318851 non-null object\n",
      "kitchen                318851 non-null int64\n",
      "bathRoom               318851 non-null object\n",
      "floor                  318851 non-null object\n",
      "buildingType           316830 non-null float64\n",
      "constructionTime       318851 non-null object\n",
      "renovationCondition    318851 non-null int64\n",
      "buildingStructure      318851 non-null int64\n",
      "ladderRatio            318851 non-null float64\n",
      "elevator               318819 non-null float64\n",
      "fiveYearsProperty      318819 non-null float64\n",
      "subway                 318819 non-null float64\n",
      "district               318851 non-null int64\n",
      "communityAverage       318388 non-null float64\n",
      "dtypes: float64(11), int64(7), object(8)\n",
      "memory usage: 63.2+ MB\n"
     ]
    }
   ],
   "source": [
    "df.info()"
   ]
  },
  {
   "cell_type": "markdown",
   "metadata": {},
   "source": [
    "<a id=’Set-Index-Column’></a>\n",
    "#### Set Index Column"
   ]
  },
  {
   "cell_type": "code",
   "execution_count": 5,
   "metadata": {},
   "outputs": [
    {
     "name": "stdout",
     "output_type": "stream",
     "text": [
      "[101084782030 101086012217 101086041636 ... 'BJYZ92324217' 'BJYZ92333313'\n",
      " 'BJYZ92363553']\n"
     ]
    }
   ],
   "source": [
    "print(df.id.unique())"
   ]
  },
  {
   "cell_type": "markdown",
   "metadata": {},
   "source": [
    "The format of the id column is not consistent"
   ]
  },
  {
   "cell_type": "code",
   "execution_count": 6,
   "metadata": {},
   "outputs": [],
   "source": [
    "#convert all ids as strings and set id as index\n",
    "df.id = df.id.astype(str)\n",
    "df = df.set_index('id')"
   ]
  },
  {
   "cell_type": "markdown",
   "metadata": {},
   "source": [
    "<a id=’Renaming-Coloumns’></a>\n",
    "#### Renaming Columns\n",
    "\n",
    "Some of the columns are not labeled correctly due to translation issues"
   ]
  },
  {
   "cell_type": "code",
   "execution_count": 7,
   "metadata": {},
   "outputs": [
    {
     "data": {
      "text/plain": [
       "array(['url', 'Lng', 'Lat', 'Cid', 'tradeTime', 'DOM', 'followers',\n",
       "       'totalPrice', 'price', 'square', 'livingRoom', 'drawingRoom',\n",
       "       'kitchen', 'bathRoom', 'floor', 'buildingType', 'constructionTime',\n",
       "       'renovationCondition', 'buildingStructure', 'ladderRatio',\n",
       "       'elevator', 'fiveYearsProperty', 'subway', 'district',\n",
       "       'communityAverage'], dtype=object)"
      ]
     },
     "execution_count": 7,
     "metadata": {},
     "output_type": "execute_result"
    }
   ],
   "source": [
    "df.columns.values"
   ]
  },
  {
   "cell_type": "code",
   "execution_count": 8,
   "metadata": {},
   "outputs": [],
   "source": [
    "#livingRoom should actually mean bedRoom\n",
    "df.rename(columns = {'livingRoom':'bedRoom'}, inplace=True)"
   ]
  },
  {
   "cell_type": "code",
   "execution_count": 9,
   "metadata": {},
   "outputs": [],
   "source": [
    "#drawingRoom should actually mean livingRoom\n",
    "df.rename(columns = {'drawingRoom':'livingRoom'}, inplace=True)"
   ]
  },
  {
   "cell_type": "code",
   "execution_count": 10,
   "metadata": {},
   "outputs": [],
   "source": [
    "df.rename(columns = {'square':'squareMeters'}, inplace=True)"
   ]
  },
  {
   "cell_type": "code",
   "execution_count": 11,
   "metadata": {},
   "outputs": [
    {
     "name": "stdout",
     "output_type": "stream",
     "text": [
      "<class 'pandas.core.frame.DataFrame'>\n",
      "Index: 318851 entries, 101084782030 to BJYZ92363553\n",
      "Data columns (total 25 columns):\n",
      "url                    318851 non-null object\n",
      "Lng                    318851 non-null float64\n",
      "Lat                    318851 non-null float64\n",
      "Cid                    318851 non-null int64\n",
      "tradeTime              318851 non-null object\n",
      "DOM                    160874 non-null float64\n",
      "followers              318851 non-null int64\n",
      "totalPrice             318851 non-null float64\n",
      "price                  318851 non-null int64\n",
      "squareMeters           318851 non-null float64\n",
      "bedRoom                318851 non-null object\n",
      "livingRoom             318851 non-null object\n",
      "kitchen                318851 non-null int64\n",
      "bathRoom               318851 non-null object\n",
      "floor                  318851 non-null object\n",
      "buildingType           316830 non-null float64\n",
      "constructionTime       318851 non-null object\n",
      "renovationCondition    318851 non-null int64\n",
      "buildingStructure      318851 non-null int64\n",
      "ladderRatio            318851 non-null float64\n",
      "elevator               318819 non-null float64\n",
      "fiveYearsProperty      318819 non-null float64\n",
      "subway                 318819 non-null float64\n",
      "district               318851 non-null int64\n",
      "communityAverage       318388 non-null float64\n",
      "dtypes: float64(11), int64(7), object(7)\n",
      "memory usage: 63.2+ MB\n"
     ]
    }
   ],
   "source": [
    "df.info()"
   ]
  },
  {
   "cell_type": "markdown",
   "metadata": {},
   "source": [
    "<a id=’Visualizing-Missing-Values’></a>\n",
    "#### Visualizing Missing Values"
   ]
  },
  {
   "cell_type": "code",
   "execution_count": 12,
   "metadata": {},
   "outputs": [],
   "source": [
    "import numpy as np\n",
    "import missingno as msno "
   ]
  },
  {
   "cell_type": "code",
   "execution_count": 13,
   "metadata": {},
   "outputs": [
    {
     "data": {
      "text/plain": [
       "<matplotlib.axes._subplots.AxesSubplot at 0x11d25df28>"
      ]
     },
     "execution_count": 13,
     "metadata": {},
     "output_type": "execute_result"
    },
    {
     "data": {
      "image/png": "[encoded data removed]",
      "text/plain": [
       "<Figure size 1800x720 with 2 Axes>"
      ]
     },
     "metadata": {},
     "output_type": "display_data"
    }
   ],
   "source": [
    "msno.matrix(df) "
   ]
  },
  {
   "cell_type": "markdown",
   "metadata": {},
   "source": [
    " Notice that a large portion of values in DOM column is missing. "
   ]
  },
  {
   "cell_type": "markdown",
   "metadata": {},
   "source": [
    "<a id=’Cleaning-Data’></a>\n",
    "### Cleaning Data\n"
   ]
  },
  {
   "cell_type": "markdown",
   "metadata": {},
   "source": [
    "<a id=’Numerical-Variables’></a>\n",
    "#### Numerical Variables\n",
    "\n",
    "- Numbers of bedRoom, livingRoom and bathRoom should be integers, but show as objects"
   ]
  },
  {
   "cell_type": "code",
   "execution_count": 14,
   "metadata": {},
   "outputs": [
    {
     "name": "stdout",
     "output_type": "stream",
     "text": [
      "[2 3 1 4 5 6 9 0 7 8 '1' '4' '3' '2' '5' '7' '9' '6' '0' '#NAME?' '8']\n"
     ]
    }
   ],
   "source": [
    "#check bedRoom values\n",
    "print(df.bedRoom.unique())"
   ]
  },
  {
   "cell_type": "code",
   "execution_count": 15,
   "metadata": {},
   "outputs": [
    {
     "data": {
      "text/plain": [
       "32"
      ]
     },
     "execution_count": 15,
     "metadata": {},
     "output_type": "execute_result"
    }
   ],
   "source": [
    "#Check number line with missing values in bedRoom\n",
    "df[df.bedRoom == '#NAME?'].bedRoom.count()"
   ]
  },
  {
   "cell_type": "code",
   "execution_count": 16,
   "metadata": {},
   "outputs": [],
   "source": [
    "#only 32 lines missing values in bedRoom. I will just remove these lines\n",
    "#drop missing values and store as integer dtype\n",
    "df = df.drop(df[df.bedRoom == '#NAME?'].index)\n",
    "df.bedRoom = df.bedRoom.astype(int)"
   ]
  },
  {
   "cell_type": "code",
   "execution_count": 17,
   "metadata": {},
   "outputs": [
    {
     "name": "stdout",
     "output_type": "stream",
     "text": [
      "[1 2 0 4 3 5 '0' '1' '2' '3' '4' '5']\n"
     ]
    }
   ],
   "source": [
    "#check livingRoom values\n",
    "print(df.livingRoom.unique())"
   ]
  },
  {
   "cell_type": "code",
   "execution_count": 18,
   "metadata": {},
   "outputs": [],
   "source": [
    "#Convert livingRoom number as integer dtype\n",
    "df.livingRoom = df.livingRoom.astype(int)"
   ]
  },
  {
   "cell_type": "code",
   "execution_count": 19,
   "metadata": {},
   "outputs": [
    {
     "name": "stdout",
     "output_type": "stream",
     "text": [
      "[1 2 3 0 4 5 6 7 '1' '2' '0' '3' '4' '5' '7']\n"
     ]
    }
   ],
   "source": [
    "#check bathRoom values\n",
    "print(df.bathRoom.unique())"
   ]
  },
  {
   "cell_type": "code",
   "execution_count": 20,
   "metadata": {},
   "outputs": [],
   "source": [
    "#Convert bathRoom number as integer dtype\n",
    "df.bathRoom = df.bathRoom.astype(int)"
   ]
  },
  {
   "cell_type": "markdown",
   "metadata": {},
   "source": [
    "- Missing Values: communityAverage, DOM, constructionTime"
   ]
  },
  {
   "cell_type": "code",
   "execution_count": 21,
   "metadata": {},
   "outputs": [
    {
     "data": {
      "text/plain": [
       "463"
      ]
     },
     "execution_count": 21,
     "metadata": {},
     "output_type": "execute_result"
    }
   ],
   "source": [
    "#Check number of missing values in CommunityAverage\n",
    "sum(df.communityAverage.isna())"
   ]
  },
  {
   "cell_type": "code",
   "execution_count": 22,
   "metadata": {},
   "outputs": [],
   "source": [
    "#there are 463 NaN values. I will just remove these lines\n",
    "df = df.drop(df[df.communityAverage.isna()].index)"
   ]
  },
  {
   "cell_type": "code",
   "execution_count": 23,
   "metadata": {},
   "outputs": [
    {
     "data": {
      "text/plain": [
       "count   160632.000\n",
       "mean        28.838\n",
       "std         50.247\n",
       "min          1.000\n",
       "25%          1.000\n",
       "50%          7.000\n",
       "75%         37.000\n",
       "max       1677.000\n",
       "Name: DOM, dtype: float64"
      ]
     },
     "execution_count": 23,
     "metadata": {},
     "output_type": "execute_result"
    }
   ],
   "source": [
    "#check distribution on DOM\n",
    "df.DOM.describe()\n",
    "#DOM is very skewed"
   ]
  },
  {
   "cell_type": "markdown",
   "metadata": {},
   "source": [
    "Notice that the distribution of DOM is skewed. Because the Days on Markets(DOM) can vary significantly for each year and for each community or district, I will use the median of DOM by year by individual community to fill the missing values first"
   ]
  },
  {
   "cell_type": "code",
   "execution_count": 24,
   "metadata": {},
   "outputs": [
    {
     "ename": "TypeError",
     "evalue": "Only valid with DatetimeIndex, TimedeltaIndex or PeriodIndex, but got an instance of 'Index'",
     "output_type": "error",
     "traceback": [
      "\u001b[0;31m---------------------------------------------------------------------------\u001b[0m",
      "\u001b[0;31mTypeError\u001b[0m                                 Traceback (most recent call last)",
      "\u001b[0;32m<ipython-input-24-957b4cbaebb7>\u001b[0m in \u001b[0;36m<module>\u001b[0;34m()\u001b[0m\n\u001b[1;32m      1\u001b[0m \u001b[0ma\u001b[0m \u001b[0;34m=\u001b[0m \u001b[0mdf\u001b[0m\u001b[0;34m.\u001b[0m\u001b[0mloc\u001b[0m\u001b[0;34m[\u001b[0m\u001b[0;34m:\u001b[0m\u001b[0;34m,\u001b[0m\u001b[0;34m[\u001b[0m\u001b[0;34m'Cid'\u001b[0m\u001b[0;34m,\u001b[0m \u001b[0;34m'tradeTime'\u001b[0m\u001b[0;34m,\u001b[0m\u001b[0;34m'DOM'\u001b[0m\u001b[0;34m]\u001b[0m\u001b[0;34m]\u001b[0m\u001b[0;34m\u001b[0m\u001b[0m\n\u001b[1;32m      2\u001b[0m \u001b[0ma\u001b[0m \u001b[0;34m=\u001b[0m \u001b[0ma\u001b[0m\u001b[0;34m.\u001b[0m\u001b[0mreset_index\u001b[0m\u001b[0;34m(\u001b[0m\u001b[0;34m)\u001b[0m\u001b[0;34m.\u001b[0m\u001b[0mset_index\u001b[0m\u001b[0;34m(\u001b[0m\u001b[0;34m'tradeTime'\u001b[0m\u001b[0;34m)\u001b[0m\u001b[0;34m\u001b[0m\u001b[0m\n\u001b[0;32m----> 3\u001b[0;31m \u001b[0ma\u001b[0m\u001b[0;34m[\u001b[0m\u001b[0;34m'DOM'\u001b[0m\u001b[0;34m]\u001b[0m \u001b[0;34m=\u001b[0m \u001b[0ma\u001b[0m\u001b[0;34m.\u001b[0m\u001b[0mgroupby\u001b[0m\u001b[0;34m(\u001b[0m\u001b[0;34m[\u001b[0m\u001b[0mpd\u001b[0m\u001b[0;34m.\u001b[0m\u001b[0mGrouper\u001b[0m\u001b[0;34m(\u001b[0m\u001b[0mfreq\u001b[0m\u001b[0;34m=\u001b[0m\u001b[0;34m'Y'\u001b[0m\u001b[0;34m)\u001b[0m\u001b[0;34m,\u001b[0m \u001b[0;34m'Cid'\u001b[0m\u001b[0;34m]\u001b[0m\u001b[0;34m)\u001b[0m\u001b[0;34m.\u001b[0m\u001b[0mtransform\u001b[0m\u001b[0;34m(\u001b[0m\u001b[0;32mlambda\u001b[0m \u001b[0mx\u001b[0m\u001b[0;34m:\u001b[0m \u001b[0mx\u001b[0m\u001b[0;34m.\u001b[0m\u001b[0mfillna\u001b[0m\u001b[0;34m(\u001b[0m\u001b[0mx\u001b[0m\u001b[0;34m.\u001b[0m\u001b[0mmedian\u001b[0m\u001b[0;34m(\u001b[0m\u001b[0;34m)\u001b[0m\u001b[0;34m)\u001b[0m\u001b[0;34m)\u001b[0m\u001b[0;34m\u001b[0m\u001b[0m\n\u001b[0m\u001b[1;32m      4\u001b[0m \u001b[0ma\u001b[0m\u001b[0;34m=\u001b[0m\u001b[0ma\u001b[0m\u001b[0;34m.\u001b[0m\u001b[0mreset_index\u001b[0m\u001b[0;34m(\u001b[0m\u001b[0;34m)\u001b[0m\u001b[0;34m.\u001b[0m\u001b[0mset_index\u001b[0m\u001b[0;34m(\u001b[0m\u001b[0;34m'id'\u001b[0m\u001b[0;34m)\u001b[0m\u001b[0;34m\u001b[0m\u001b[0m\n\u001b[1;32m      5\u001b[0m \u001b[0mdf\u001b[0m\u001b[0;34m[\u001b[0m\u001b[0;34m'DOM'\u001b[0m\u001b[0;34m]\u001b[0m \u001b[0;34m=\u001b[0m \u001b[0ma\u001b[0m\u001b[0;34m[\u001b[0m\u001b[0;34m'DOM'\u001b[0m\u001b[0;34m]\u001b[0m\u001b[0;34m\u001b[0m\u001b[0m\n",
      "\u001b[0;32m~/anaconda3/lib/python3.6/site-packages/pandas/core/generic.py\u001b[0m in \u001b[0;36mgroupby\u001b[0;34m(self, by, axis, level, as_index, sort, group_keys, squeeze, observed, **kwargs)\u001b[0m\n\u001b[1;32m   7892\u001b[0m             \u001b[0msqueeze\u001b[0m\u001b[0;34m=\u001b[0m\u001b[0msqueeze\u001b[0m\u001b[0;34m,\u001b[0m\u001b[0;34m\u001b[0m\u001b[0m\n\u001b[1;32m   7893\u001b[0m             \u001b[0mobserved\u001b[0m\u001b[0;34m=\u001b[0m\u001b[0mobserved\u001b[0m\u001b[0;34m,\u001b[0m\u001b[0;34m\u001b[0m\u001b[0m\n\u001b[0;32m-> 7894\u001b[0;31m             \u001b[0;34m**\u001b[0m\u001b[0mkwargs\u001b[0m\u001b[0;34m\u001b[0m\u001b[0m\n\u001b[0m\u001b[1;32m   7895\u001b[0m         )\n\u001b[1;32m   7896\u001b[0m \u001b[0;34m\u001b[0m\u001b[0m\n",
      "\u001b[0;32m~/anaconda3/lib/python3.6/site-packages/pandas/core/groupby/groupby.py\u001b[0m in \u001b[0;36mgroupby\u001b[0;34m(obj, by, **kwds)\u001b[0m\n\u001b[1;32m   2520\u001b[0m         \u001b[0;32mraise\u001b[0m \u001b[0mTypeError\u001b[0m\u001b[0;34m(\u001b[0m\u001b[0;34m\"invalid type: {}\"\u001b[0m\u001b[0;34m.\u001b[0m\u001b[0mformat\u001b[0m\u001b[0;34m(\u001b[0m\u001b[0mobj\u001b[0m\u001b[0;34m)\u001b[0m\u001b[0;34m)\u001b[0m\u001b[0;34m\u001b[0m\u001b[0m\n\u001b[1;32m   2521\u001b[0m \u001b[0;34m\u001b[0m\u001b[0m\n\u001b[0;32m-> 2522\u001b[0;31m     \u001b[0;32mreturn\u001b[0m \u001b[0mklass\u001b[0m\u001b[0;34m(\u001b[0m\u001b[0mobj\u001b[0m\u001b[0;34m,\u001b[0m \u001b[0mby\u001b[0m\u001b[0;34m,\u001b[0m \u001b[0;34m**\u001b[0m\u001b[0mkwds\u001b[0m\u001b[0;34m)\u001b[0m\u001b[0;34m\u001b[0m\u001b[0m\n\u001b[0m",
      "\u001b[0;32m~/anaconda3/lib/python3.6/site-packages/pandas/core/groupby/groupby.py\u001b[0m in \u001b[0;36m__init__\u001b[0;34m(self, obj, keys, axis, level, grouper, exclusions, selection, as_index, sort, group_keys, squeeze, observed, **kwargs)\u001b[0m\n\u001b[1;32m    389\u001b[0m                 \u001b[0msort\u001b[0m\u001b[0;34m=\u001b[0m\u001b[0msort\u001b[0m\u001b[0;34m,\u001b[0m\u001b[0;34m\u001b[0m\u001b[0m\n\u001b[1;32m    390\u001b[0m                 \u001b[0mobserved\u001b[0m\u001b[0;34m=\u001b[0m\u001b[0mobserved\u001b[0m\u001b[0;34m,\u001b[0m\u001b[0;34m\u001b[0m\u001b[0m\n\u001b[0;32m--> 391\u001b[0;31m                 \u001b[0mmutated\u001b[0m\u001b[0;34m=\u001b[0m\u001b[0mself\u001b[0m\u001b[0;34m.\u001b[0m\u001b[0mmutated\u001b[0m\u001b[0;34m,\u001b[0m\u001b[0;34m\u001b[0m\u001b[0m\n\u001b[0m\u001b[1;32m    392\u001b[0m             )\n\u001b[1;32m    393\u001b[0m \u001b[0;34m\u001b[0m\u001b[0m\n",
      "\u001b[0;32m~/anaconda3/lib/python3.6/site-packages/pandas/core/groupby/grouper.py\u001b[0m in \u001b[0;36m_get_grouper\u001b[0;34m(obj, key, axis, level, sort, observed, mutated, validate)\u001b[0m\n\u001b[1;32m    650\u001b[0m                 \u001b[0min_axis\u001b[0m\u001b[0;34m=\u001b[0m\u001b[0min_axis\u001b[0m\u001b[0;34m,\u001b[0m\u001b[0;34m\u001b[0m\u001b[0m\n\u001b[1;32m    651\u001b[0m             )\n\u001b[0;32m--> 652\u001b[0;31m             \u001b[0;32mif\u001b[0m \u001b[0;32mnot\u001b[0m \u001b[0misinstance\u001b[0m\u001b[0;34m(\u001b[0m\u001b[0mgpr\u001b[0m\u001b[0;34m,\u001b[0m \u001b[0mGrouping\u001b[0m\u001b[0;34m)\u001b[0m\u001b[0;34m\u001b[0m\u001b[0m\n\u001b[0m\u001b[1;32m    653\u001b[0m             \u001b[0;32melse\u001b[0m \u001b[0mgpr\u001b[0m\u001b[0;34m\u001b[0m\u001b[0m\n\u001b[1;32m    654\u001b[0m         )\n",
      "\u001b[0;32m~/anaconda3/lib/python3.6/site-packages/pandas/core/groupby/grouper.py\u001b[0m in \u001b[0;36m__init__\u001b[0;34m(self, index, grouper, obj, name, level, sort, observed, in_axis)\u001b[0m\n\u001b[1;32m    295\u001b[0m             \u001b[0;31m# check again as we have by this point converted these\u001b[0m\u001b[0;34m\u001b[0m\u001b[0;34m\u001b[0m\u001b[0m\n\u001b[1;32m    296\u001b[0m             \u001b[0;31m# to an actual value (rather than a pd.Grouper)\u001b[0m\u001b[0;34m\u001b[0m\u001b[0;34m\u001b[0m\u001b[0m\n\u001b[0;32m--> 297\u001b[0;31m             \u001b[0m_\u001b[0m\u001b[0;34m,\u001b[0m \u001b[0mgrouper\u001b[0m\u001b[0;34m,\u001b[0m \u001b[0m_\u001b[0m \u001b[0;34m=\u001b[0m \u001b[0mself\u001b[0m\u001b[0;34m.\u001b[0m\u001b[0mgrouper\u001b[0m\u001b[0;34m.\u001b[0m\u001b[0m_get_grouper\u001b[0m\u001b[0;34m(\u001b[0m\u001b[0mself\u001b[0m\u001b[0;34m.\u001b[0m\u001b[0mobj\u001b[0m\u001b[0;34m,\u001b[0m \u001b[0mvalidate\u001b[0m\u001b[0;34m=\u001b[0m\u001b[0;32mFalse\u001b[0m\u001b[0;34m)\u001b[0m\u001b[0;34m\u001b[0m\u001b[0m\n\u001b[0m\u001b[1;32m    298\u001b[0m             \u001b[0;32mif\u001b[0m \u001b[0mself\u001b[0m\u001b[0;34m.\u001b[0m\u001b[0mname\u001b[0m \u001b[0;32mis\u001b[0m \u001b[0;32mNone\u001b[0m\u001b[0;34m:\u001b[0m\u001b[0;34m\u001b[0m\u001b[0m\n\u001b[1;32m    299\u001b[0m                 \u001b[0mself\u001b[0m\u001b[0;34m.\u001b[0m\u001b[0mname\u001b[0m \u001b[0;34m=\u001b[0m \u001b[0mgrouper\u001b[0m\u001b[0;34m.\u001b[0m\u001b[0mresult_index\u001b[0m\u001b[0;34m.\u001b[0m\u001b[0mname\u001b[0m\u001b[0;34m\u001b[0m\u001b[0m\n",
      "\u001b[0;32m~/anaconda3/lib/python3.6/site-packages/pandas/core/resample.py\u001b[0m in \u001b[0;36m_get_grouper\u001b[0;34m(self, obj, validate)\u001b[0m\n\u001b[1;32m   1446\u001b[0m     \u001b[0;32mdef\u001b[0m \u001b[0m_get_grouper\u001b[0m\u001b[0;34m(\u001b[0m\u001b[0mself\u001b[0m\u001b[0;34m,\u001b[0m \u001b[0mobj\u001b[0m\u001b[0;34m,\u001b[0m \u001b[0mvalidate\u001b[0m\u001b[0;34m=\u001b[0m\u001b[0;32mTrue\u001b[0m\u001b[0;34m)\u001b[0m\u001b[0;34m:\u001b[0m\u001b[0;34m\u001b[0m\u001b[0m\n\u001b[1;32m   1447\u001b[0m         \u001b[0;31m# create the resampler and return our binner\u001b[0m\u001b[0;34m\u001b[0m\u001b[0;34m\u001b[0m\u001b[0m\n\u001b[0;32m-> 1448\u001b[0;31m         \u001b[0mr\u001b[0m \u001b[0;34m=\u001b[0m \u001b[0mself\u001b[0m\u001b[0;34m.\u001b[0m\u001b[0m_get_resampler\u001b[0m\u001b[0;34m(\u001b[0m\u001b[0mobj\u001b[0m\u001b[0;34m)\u001b[0m\u001b[0;34m\u001b[0m\u001b[0m\n\u001b[0m\u001b[1;32m   1449\u001b[0m         \u001b[0mr\u001b[0m\u001b[0;34m.\u001b[0m\u001b[0m_set_binner\u001b[0m\u001b[0;34m(\u001b[0m\u001b[0;34m)\u001b[0m\u001b[0;34m\u001b[0m\u001b[0m\n\u001b[1;32m   1450\u001b[0m         \u001b[0;32mreturn\u001b[0m \u001b[0mr\u001b[0m\u001b[0;34m.\u001b[0m\u001b[0mbinner\u001b[0m\u001b[0;34m,\u001b[0m \u001b[0mr\u001b[0m\u001b[0;34m.\u001b[0m\u001b[0mgrouper\u001b[0m\u001b[0;34m,\u001b[0m \u001b[0mr\u001b[0m\u001b[0;34m.\u001b[0m\u001b[0mobj\u001b[0m\u001b[0;34m\u001b[0m\u001b[0m\n",
      "\u001b[0;32m~/anaconda3/lib/python3.6/site-packages/pandas/core/resample.py\u001b[0m in \u001b[0;36m_get_resampler\u001b[0;34m(self, obj, kind)\u001b[0m\n\u001b[1;32m   1441\u001b[0m             \u001b[0;34m\"Only valid with DatetimeIndex, \"\u001b[0m\u001b[0;34m\u001b[0m\u001b[0m\n\u001b[1;32m   1442\u001b[0m             \u001b[0;34m\"TimedeltaIndex or PeriodIndex, \"\u001b[0m\u001b[0;34m\u001b[0m\u001b[0m\n\u001b[0;32m-> 1443\u001b[0;31m             \u001b[0;34m\"but got an instance of %r\"\u001b[0m \u001b[0;34m%\u001b[0m \u001b[0mtype\u001b[0m\u001b[0;34m(\u001b[0m\u001b[0max\u001b[0m\u001b[0;34m)\u001b[0m\u001b[0;34m.\u001b[0m\u001b[0m__name__\u001b[0m\u001b[0;34m\u001b[0m\u001b[0m\n\u001b[0m\u001b[1;32m   1444\u001b[0m         )\n\u001b[1;32m   1445\u001b[0m \u001b[0;34m\u001b[0m\u001b[0m\n",
      "\u001b[0;31mTypeError\u001b[0m: Only valid with DatetimeIndex, TimedeltaIndex or PeriodIndex, but got an instance of 'Index'"
     ]
    }
   ],
   "source": [
    "a = df.loc[:,['Cid', 'tradeTime','DOM']]\n",
    "a = a.reset_index().set_index('tradeTime')\n",
    "a['DOM'] = a.groupby([pd.Grouper(freq='Y'), 'Cid']).transform(lambda x: x.fillna(x.median()))\n",
    "a=a.reset_index().set_index('id')\n",
    "df['DOM'] = a['DOM']\n",
    "sum(df.DOM.isna())"
   ]
  },
  {
   "cell_type": "markdown",
   "metadata": {},
   "source": [
    "there are still missing values left. It means there are communities do not have DOM records for a particular year.\n",
    "Next, I will use the median of DOM by year by district to fill the rest missing values"
   ]
  },
  {
   "cell_type": "code",
   "execution_count": null,
   "metadata": {},
   "outputs": [],
   "source": [
    "a = df.loc[:,['district', 'tradeTime','DOM']]\n",
    "a = a.reset_index().set_index('tradeTime')\n",
    "a['DOM'] = a.groupby([pd.Grouper(freq='Y'), 'district']).transform(lambda x: x.fillna(x.median()))\n",
    "a=a.reset_index().set_index('id')\n",
    "df['DOM'] = a['DOM']\n",
    "sum(df.DOM.isna())"
   ]
  },
  {
   "cell_type": "code",
   "execution_count": null,
   "metadata": {},
   "outputs": [],
   "source": [
    "#there are still 6 missing values left. It means there are communities do not have DOM records for a particular year.\n",
    "#I will just drop them\n",
    "df = df[df['DOM'].notna()]"
   ]
  },
  {
   "cell_type": "code",
   "execution_count": null,
   "metadata": {},
   "outputs": [],
   "source": [
    "#Check values in constructionTime\n",
    "print(df.constructionTime.unique())\n",
    "len(df[df.constructionTime=='未知'])"
   ]
  },
  {
   "cell_type": "code",
   "execution_count": null,
   "metadata": {},
   "outputs": [],
   "source": [
    "#'未知' means unknown. 19114 lines with unknown cusntructionTime. I will simply remove them\n",
    "df = df.drop(df[df.constructionTime == '未知'].index)"
   ]
  },
  {
   "cell_type": "code",
   "execution_count": null,
   "metadata": {},
   "outputs": [],
   "source": [
    "#convert cunstructionTime to datetime dtype\n",
    "df.constructionTime = pd.to_datetime(df.constructionTime,format='%Y')"
   ]
  },
  {
   "cell_type": "code",
   "execution_count": null,
   "metadata": {},
   "outputs": [],
   "source": [
    "#Convert tradetime from string to datetime data\n",
    "df.tradeTime = pd.to_datetime(df.tradeTime)"
   ]
  },
  {
   "cell_type": "markdown",
   "metadata": {},
   "source": [
    "<a id=’Categorical Variables’></a>\n",
    "#### Categorical Variables\n",
    "\n",
    "- Missing Values: buildingType"
   ]
  },
  {
   "cell_type": "code",
   "execution_count": null,
   "metadata": {},
   "outputs": [],
   "source": [
    "# Missing values in buildingType can just be dropped since there are not many. \n",
    "# For practice purpose, I will fill in missing values for communities that just has one buildingType \n",
    "print(df.buildingType.unique())\n",
    "len(df[df.buildingType.isna()])"
   ]
  },
  {
   "cell_type": "code",
   "execution_count": null,
   "metadata": {},
   "outputs": [],
   "source": [
    "#Figure out the communities that only has 1 building Type - excluding missing values\n",
    "a = df.loc[df.buildingType.notna()]\n",
    "a = a.groupby(['Cid','buildingType']).size().sort_values()\n",
    "a = a.reset_index().groupby('Cid')['buildingType'].size()\n",
    "Cid_one_buildingType = list(a[a==1].index)\n",
    "len(Cid_one_buildingType)\n",
    "#2459 communities that just have 1 building type."
   ]
  },
  {
   "cell_type": "code",
   "execution_count": null,
   "metadata": {},
   "outputs": [],
   "source": [
    "a = df[df.Cid.isin(Cid_one_buildingType)]\n",
    "ms_buildingType = a[a.buildingType.isna()]\n",
    "len(ms_buildingType)\n",
    "#568 missing values of buildigType are in communities that only have 1 buildingType."
   ]
  },
  {
   "cell_type": "code",
   "execution_count": null,
   "metadata": {},
   "outputs": [],
   "source": [
    "len(df[df.buildingType.isna() & ~ df.Cid.isin(Cid_one_buildingType)])\n",
    "#972 lines needs to be removed. becuase these houses are in communities with more than 1 building type"
   ]
  },
  {
   "cell_type": "code",
   "execution_count": null,
   "metadata": {},
   "outputs": [],
   "source": [
    "#drop those 972 lines then fill missing values in buidingTypes for communities that just has 1 buildingType\n",
    "df = df.drop(df[df.buildingType.isna() & ~ df.Cid.isin(Cid_one_buildingType)].index)\n",
    "df = df.sort_values(by=['Cid','buildingType'])\n",
    "df.buildingType.fillna(method='ffill',inplace=True)"
   ]
  },
  {
   "cell_type": "markdown",
   "metadata": {},
   "source": [
    "- floor: this column shows the the relative floor position in the building(high, middle, low) and the total floor number of the building. I will split them into separate variables"
   ]
  },
  {
   "cell_type": "code",
   "execution_count": null,
   "metadata": {},
   "outputs": [],
   "source": [
    "print(df.floor)"
   ]
  },
  {
   "cell_type": "code",
   "execution_count": null,
   "metadata": {},
   "outputs": [],
   "source": [
    "df[['floorPosition', 'buildingFloors']]= df.floor.str.split(pat= ' ', expand =True)\n",
    "df.drop('floor',axis=1,inplace=True)"
   ]
  },
  {
   "cell_type": "code",
   "execution_count": null,
   "metadata": {},
   "outputs": [],
   "source": [
    "print(df.floorPosition.unique())\n",
    "print(df.buildingFloors.unique())"
   ]
  },
  {
   "cell_type": "code",
   "execution_count": null,
   "metadata": {},
   "outputs": [],
   "source": [
    "len(df[df.floorPosition == '未知'])\n",
    "# '未知' means unknown. 989 lines with floor position unknow. I will simply remove these lines"
   ]
  },
  {
   "cell_type": "code",
   "execution_count": null,
   "metadata": {},
   "outputs": [],
   "source": [
    "#drop unknown values and convert buildingFloorst as interger\n",
    "df = df.drop(df[df.floorPosition == '未知'].index)\n",
    "df.buildingFloors = df.buildingFloors.astype(int)"
   ]
  },
  {
   "cell_type": "code",
   "execution_count": null,
   "metadata": {},
   "outputs": [],
   "source": [
    "#Reassign labels for floorPosition\n",
    "df.floorPosition = df.floorPosition.apply(\n",
    "    lambda x: 'middle' if x == '中' \n",
    "    else ('high' if x == '高' \n",
    "          else ('low' if x =='低' \n",
    "                else ('bottom' if x == '底' \n",
    "                      else ('top' if x == '顶' else x)))))\n",
    "df.floorPosition = df.floorPosition.astype(str)"
   ]
  },
  {
   "cell_type": "markdown",
   "metadata": {},
   "source": [
    "- Label creation for buildingType, renovationCondition, buildingStructure, district"
   ]
  },
  {
   "cell_type": "code",
   "execution_count": null,
   "metadata": {},
   "outputs": [],
   "source": [
    "df.buildingType = df.buildingType.apply(\n",
    "    lambda x: 'tower' if x == 1 \n",
    "    else ('bungalow' if x == 2 \n",
    "          else ('combination' if x == 3 \n",
    "                else ('plate' if x == 4\n",
    "                      else x))))\n",
    "\n",
    "df.renovationCondition = df.renovationCondition.apply(\n",
    "    lambda x: 'other' if x == 1 \n",
    "    else ('rough' if x == 2 \n",
    "          else ('simplicity' if x == 3 \n",
    "                else ('hardcover' if x == 4\n",
    "                      else x))))\n",
    "\n",
    "df.buildingStructure = df.buildingStructure.apply(\n",
    "    lambda x: 'unknown' if x == 1 \n",
    "    else ('mixed' if x == 2 \n",
    "          else ('brick and wood' if x == 3 \n",
    "                else ('brick and concrete' if x == 4\n",
    "                      else ('steel' if x == 5\n",
    "                           else ('steel-concrete composite' if x ==6\n",
    "                                else x))))))\n",
    "\n",
    "df.district = df.district.apply(\n",
    "    lambda x: 'DongCheng' if x == 1 \n",
    "    else ('FengTai' if x == 2 \n",
    "          else ('YiZhuang BDA' if x == 3 \n",
    "                else ('DaXing' if x == 4\n",
    "                      else ('FangShan' if x == 5\n",
    "                           else ('ChangPing' if x ==6\n",
    "                                else ('ChaoYang' if x == 7\n",
    "                                     else ('HaiDian' if x == 8\n",
    "                                          else ('Shijingshan' if x == 9\n",
    "                                               else ('XiCheng' if x == 10\n",
    "                                                    else ('TongZhou' if x == 11\n",
    "                                                         else ('Shunyi' if x ==12\n",
    "                                                              else('MenTouGou' if x ==13\n",
    "                                                                  else x)))))))))))))\n",
    "\n",
    "\n",
    "\n",
    "\n"
   ]
  },
  {
   "cell_type": "code",
   "execution_count": null,
   "metadata": {},
   "outputs": [],
   "source": [
    "df.info()"
   ]
  },
  {
   "cell_type": "markdown",
   "metadata": {},
   "source": [
    "- Converting to categorical data: elevator, fiveYearsProperty, subway, floor"
   ]
  },
  {
   "cell_type": "code",
   "execution_count": null,
   "metadata": {},
   "outputs": [],
   "source": [
    "df.elevator = df.elevator.astype('category')\n",
    "df.fiveYearsProperty = df.fiveYearsProperty.astype('category')\n",
    "df.subway = df.subway.astype('category')\n",
    "df.floorPosition = df.floorPosition.astype('category')\n",
    "df.renovationCondition = df.renovationCondition.astype('category')\n",
    "df.buildingStructure = df.buildingStructure.astype('category')\n",
    "df.district = df.district.astype('category')\n",
    "df.buildingType = df.buildingType.astype('category')"
   ]
  },
  {
   "cell_type": "code",
   "execution_count": null,
   "metadata": {},
   "outputs": [],
   "source": [
    "df.info()"
   ]
  },
  {
   "cell_type": "markdown",
   "metadata": {},
   "source": [
    "<a id=’Outliers’></a>\n",
    "#### Outliers\n",
    "- Price and ladderRatio"
   ]
  },
  {
   "cell_type": "code",
   "execution_count": null,
   "metadata": {},
   "outputs": [],
   "source": [
    "df.describe()\n",
    "# notice that the ladderRatio has a max value of 10009400 which is extremly high\n",
    "# Also entries that have min totalPrice of 0.1 must be outliers"
   ]
  },
  {
   "cell_type": "markdown",
   "metadata": {},
   "source": [
    "Notice that the ladderRatio has a max value of 10009400 which is extremly high and seems abnormal. Also lines that have min totalPrice of 0.1 seems incorrect as well."
   ]
  },
  {
   "cell_type": "code",
   "execution_count": null,
   "metadata": {},
   "outputs": [],
   "source": [
    "print(df.sort_values(by = 'ladderRatio', ascending=False)['ladderRatio'].head(5))\n",
    "# there are only two entries with ladderRatio of 10009400. I will just remove these two entries\n",
    "\n",
    "df = df.drop(df[df.ladderRatio == df.ladderRatio.max()].index)"
   ]
  },
  {
   "cell_type": "markdown",
   "metadata": {},
   "source": [
    "To see which entries have incorrect totalPrice values, I will firstly calculate the total price based on Price per sq. meters and the number of sq. meters of the house. \n",
    "If the ratio of the totalPrice column and the calculated total Price is not equal to 1, the entry is a possibly outlier with incorrect price info"
   ]
  },
  {
   "cell_type": "code",
   "execution_count": null,
   "metadata": {},
   "outputs": [],
   "source": [
    "df['totalPrice_calculated'] = df.price * df.squareMeters / 10000\n",
    "len(df[round(df.totalPrice / df.totalPrice_calculated)!=1])"
   ]
  },
  {
   "cell_type": "code",
   "execution_count": null,
   "metadata": {},
   "outputs": [],
   "source": [
    "#there are 209 lines with incorrect price info. Remove these lines\n",
    "df = df.drop(df[round(df.totalPrice / df.totalPrice_calculated)!=1].index)\n",
    "df.drop('totalPrice_calculated', axis = 1, inplace=True)"
   ]
  },
  {
   "cell_type": "code",
   "execution_count": null,
   "metadata": {},
   "outputs": [],
   "source": [
    "df.describe()"
   ]
  },
  {
   "cell_type": "markdown",
   "metadata": {},
   "source": [
    "<a id=’Summary’></a>\n",
    "### Summary\n",
    "After cleaning the data and removing the outliers, now we have 297084 lines that are ready to use to build our model. \n",
    "\n",
    "\n"
   ]
  }
 ],
 "metadata": {
  "kernelspec": {
   "display_name": "Python 3",
   "language": "python",
   "name": "python3"
  },
  "language_info": {
   "codemirror_mode": {
    "name": "ipython",
    "version": 3
   },
   "file_extension": ".py",
   "mimetype": "text/x-python",
   "name": "python",
   "nbconvert_exporter": "python",
   "pygments_lexer": "ipython3",
   "version": "3.6.4"
  }
 },
 "nbformat": 4,
 "nbformat_minor": 2
}
